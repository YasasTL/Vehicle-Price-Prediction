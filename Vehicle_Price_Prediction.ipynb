{
  "nbformat": 4,
  "nbformat_minor": 0,
  "metadata": {
    "colab": {
      "provenance": [],
      "gpuType": "T4",
      "mount_file_id": "1zcSgoC4V1N1VzrR6G_4zZRX6iYRzEmoc",
      "authorship_tag": "ABX9TyOs9a6HG8Ma2HExpNEF2bEg",
      "include_colab_link": true
    },
    "kernelspec": {
      "name": "python3",
      "display_name": "Python 3"
    },
    "language_info": {
      "name": "python"
    }
  },
  "cells": [
    {
      "cell_type": "markdown",
      "metadata": {
        "id": "view-in-github",
        "colab_type": "text"
      },
      "source": [
        "<a href=\"https://colab.research.google.com/github/YasasTL/Vehicle-Price-Prediction/blob/main/Vehicle_Price_Prediction.ipynb\" target=\"_parent\"><img src=\"https://colab.research.google.com/assets/colab-badge.svg\" alt=\"Open In Colab\"/></a>"
      ]
    },
    {
      "cell_type": "code",
      "execution_count": null,
      "metadata": {
        "id": "MKrhBFL7bCXt"
      },
      "outputs": [],
      "source": [
        "import numpy as np\n",
        "import pandas as pd\n",
        "import matplotlib.pyplot as plt\n",
        "from sklearn.model_selection import train_test_split\n",
        "import os\n"
      ]
    },
    {
      "cell_type": "code",
      "source": [
        "import tensorflow as tf\n",
        "from tensorflow import keras\n",
        "from keras.losses import MeanAbsoluteError"
      ],
      "metadata": {
        "id": "q7rHXcuadJqR"
      },
      "execution_count": null,
      "outputs": []
    },
    {
      "cell_type": "code",
      "source": [
        "# os.chdir('/content/drive/MyDrive/')"
      ],
      "metadata": {
        "id": "BGJmAm8axPgX"
      },
      "execution_count": null,
      "outputs": []
    },
    {
      "cell_type": "code",
      "source": [
        "data=pd.read_excel(\"/content/drive/MyDrive/Book5000.xlsx\")"
      ],
      "metadata": {
        "id": "F71hzWmCeDcC"
      },
      "execution_count": null,
      "outputs": []
    },
    {
      "cell_type": "code",
      "source": [
        "data.shape"
      ],
      "metadata": {
        "colab": {
          "base_uri": "https://localhost:8080/"
        },
        "id": "xQtAMdJme_xg",
        "outputId": "017b0b4f-1114-4289-82e8-8f46f1c8212e"
      },
      "execution_count": null,
      "outputs": [
        {
          "output_type": "execute_result",
          "data": {
            "text/plain": [
              "(50000, 19)"
            ]
          },
          "metadata": {},
          "execution_count": 5
        }
      ]
    },
    {
      "cell_type": "code",
      "source": [
        "data.head(3)"
      ],
      "metadata": {
        "colab": {
          "base_uri": "https://localhost:8080/",
          "height": 441
        },
        "id": "hpOLTqe9fPvo",
        "outputId": "b7cbf0a7-4d6a-44c3-bd94-3489c66a5cd5"
      },
      "execution_count": null,
      "outputs": [
        {
          "output_type": "execute_result",
          "data": {
            "text/plain": [
              "                                      Title  \\\n",
              "0         Honda Vezel Limited 2017 for sale   \n",
              "1      Jaguar XF Fully Loaded 2013 for sale   \n",
              "2  Toyota CHR GT New Face 2wd 2020 for sale   \n",
              "\n",
              "                                           Sub_title          Price   Brand  \\\n",
              "0  Posted on 01 Sep 2:45 pm, Kurunegala City, Kur...  Rs 12,900,000   Honda   \n",
              "1  Posted on 28 Sep 10:23 am, Kurunegala City, Ku...  Rs 16,250,000  Jaguar   \n",
              "2       Posted on 16 Sep 1:16 pm, Colombo 7, Colombo  Rs 17,000,000  Toyota   \n",
              "\n",
              "   Model          Edition  Year Condition Transmission       Body    Fuel  \\\n",
              "0  Vezel          Limited  2017      Used    Automatic  SUV / 4x4  Hybrid   \n",
              "1     XF     Fully Loaded  2013      Used    Automatic     Saloon  Diesel   \n",
              "2    CHR  GT New Face 2wd  2020      Used    Automatic  SUV / 4x4  Petrol   \n",
              "\n",
              "   Capacity    Mileage                       Location  \\\n",
              "0  1,500 cc  37,000 km   Kurunegala City,  Kurunegala   \n",
              "1  2,200 cc  42,000 km   Kurunegala City,  Kurunegala   \n",
              "2  1,200 cc  15,000 km            Colombo 7,  Colombo   \n",
              "\n",
              "                                         Description  \\\n",
              "0  HONDA VEZEL LIMITEDCBE-XXXXMANU YEAR : 2017LIM...   \n",
              "1  1st owner(registered owner)Diesel(13-14km per ...   \n",
              "2  2020 Facelift modelFirst owner (No previous ow...   \n",
              "\n",
              "                                            Post_URL          Seller_name  \\\n",
              "0  https://ikman.lk/en/ad/honda-vezel-limited-201...   Prasad Enterprises   \n",
              "1  https://ikman.lk/en/ad/jaguar-xf-fully-loaded-...  Dhanushka Dharmasri   \n",
              "2  https://ikman.lk/en/ad/toyota-chr-gt-new-face-...        Carzone Lanka   \n",
              "\n",
              "      Seller_type      published_date  \n",
              "0  Premium-Member 2022-09-01 14:45:00  \n",
              "1          Member 2022-09-28 10:23:00  \n",
              "2          Member 2022-09-16 13:16:00  "
            ],
            "text/html": [
              "\n",
              "  <div id=\"df-4f2716c7-bb62-4ba2-840c-0e5b2a320c53\" class=\"colab-df-container\">\n",
              "    <div>\n",
              "<style scoped>\n",
              "    .dataframe tbody tr th:only-of-type {\n",
              "        vertical-align: middle;\n",
              "    }\n",
              "\n",
              "    .dataframe tbody tr th {\n",
              "        vertical-align: top;\n",
              "    }\n",
              "\n",
              "    .dataframe thead th {\n",
              "        text-align: right;\n",
              "    }\n",
              "</style>\n",
              "<table border=\"1\" class=\"dataframe\">\n",
              "  <thead>\n",
              "    <tr style=\"text-align: right;\">\n",
              "      <th></th>\n",
              "      <th>Title</th>\n",
              "      <th>Sub_title</th>\n",
              "      <th>Price</th>\n",
              "      <th>Brand</th>\n",
              "      <th>Model</th>\n",
              "      <th>Edition</th>\n",
              "      <th>Year</th>\n",
              "      <th>Condition</th>\n",
              "      <th>Transmission</th>\n",
              "      <th>Body</th>\n",
              "      <th>Fuel</th>\n",
              "      <th>Capacity</th>\n",
              "      <th>Mileage</th>\n",
              "      <th>Location</th>\n",
              "      <th>Description</th>\n",
              "      <th>Post_URL</th>\n",
              "      <th>Seller_name</th>\n",
              "      <th>Seller_type</th>\n",
              "      <th>published_date</th>\n",
              "    </tr>\n",
              "  </thead>\n",
              "  <tbody>\n",
              "    <tr>\n",
              "      <th>0</th>\n",
              "      <td>Honda Vezel Limited 2017 for sale</td>\n",
              "      <td>Posted on 01 Sep 2:45 pm, Kurunegala City, Kur...</td>\n",
              "      <td>Rs 12,900,000</td>\n",
              "      <td>Honda</td>\n",
              "      <td>Vezel</td>\n",
              "      <td>Limited</td>\n",
              "      <td>2017</td>\n",
              "      <td>Used</td>\n",
              "      <td>Automatic</td>\n",
              "      <td>SUV / 4x4</td>\n",
              "      <td>Hybrid</td>\n",
              "      <td>1,500 cc</td>\n",
              "      <td>37,000 km</td>\n",
              "      <td>Kurunegala City,  Kurunegala</td>\n",
              "      <td>HONDA VEZEL LIMITEDCBE-XXXXMANU YEAR : 2017LIM...</td>\n",
              "      <td>https://ikman.lk/en/ad/honda-vezel-limited-201...</td>\n",
              "      <td>Prasad Enterprises</td>\n",
              "      <td>Premium-Member</td>\n",
              "      <td>2022-09-01 14:45:00</td>\n",
              "    </tr>\n",
              "    <tr>\n",
              "      <th>1</th>\n",
              "      <td>Jaguar XF Fully Loaded 2013 for sale</td>\n",
              "      <td>Posted on 28 Sep 10:23 am, Kurunegala City, Ku...</td>\n",
              "      <td>Rs 16,250,000</td>\n",
              "      <td>Jaguar</td>\n",
              "      <td>XF</td>\n",
              "      <td>Fully Loaded</td>\n",
              "      <td>2013</td>\n",
              "      <td>Used</td>\n",
              "      <td>Automatic</td>\n",
              "      <td>Saloon</td>\n",
              "      <td>Diesel</td>\n",
              "      <td>2,200 cc</td>\n",
              "      <td>42,000 km</td>\n",
              "      <td>Kurunegala City,  Kurunegala</td>\n",
              "      <td>1st owner(registered owner)Diesel(13-14km per ...</td>\n",
              "      <td>https://ikman.lk/en/ad/jaguar-xf-fully-loaded-...</td>\n",
              "      <td>Dhanushka Dharmasri</td>\n",
              "      <td>Member</td>\n",
              "      <td>2022-09-28 10:23:00</td>\n",
              "    </tr>\n",
              "    <tr>\n",
              "      <th>2</th>\n",
              "      <td>Toyota CHR GT New Face 2wd 2020 for sale</td>\n",
              "      <td>Posted on 16 Sep 1:16 pm, Colombo 7, Colombo</td>\n",
              "      <td>Rs 17,000,000</td>\n",
              "      <td>Toyota</td>\n",
              "      <td>CHR</td>\n",
              "      <td>GT New Face 2wd</td>\n",
              "      <td>2020</td>\n",
              "      <td>Used</td>\n",
              "      <td>Automatic</td>\n",
              "      <td>SUV / 4x4</td>\n",
              "      <td>Petrol</td>\n",
              "      <td>1,200 cc</td>\n",
              "      <td>15,000 km</td>\n",
              "      <td>Colombo 7,  Colombo</td>\n",
              "      <td>2020 Facelift modelFirst owner (No previous ow...</td>\n",
              "      <td>https://ikman.lk/en/ad/toyota-chr-gt-new-face-...</td>\n",
              "      <td>Carzone Lanka</td>\n",
              "      <td>Member</td>\n",
              "      <td>2022-09-16 13:16:00</td>\n",
              "    </tr>\n",
              "  </tbody>\n",
              "</table>\n",
              "</div>\n",
              "    <div class=\"colab-df-buttons\">\n",
              "\n",
              "  <div class=\"colab-df-container\">\n",
              "    <button class=\"colab-df-convert\" onclick=\"convertToInteractive('df-4f2716c7-bb62-4ba2-840c-0e5b2a320c53')\"\n",
              "            title=\"Convert this dataframe to an interactive table.\"\n",
              "            style=\"display:none;\">\n",
              "\n",
              "  <svg xmlns=\"http://www.w3.org/2000/svg\" height=\"24px\" viewBox=\"0 -960 960 960\">\n",
              "    <path d=\"M120-120v-720h720v720H120Zm60-500h600v-160H180v160Zm220 220h160v-160H400v160Zm0 220h160v-160H400v160ZM180-400h160v-160H180v160Zm440 0h160v-160H620v160ZM180-180h160v-160H180v160Zm440 0h160v-160H620v160Z\"/>\n",
              "  </svg>\n",
              "    </button>\n",
              "\n",
              "  <style>\n",
              "    .colab-df-container {\n",
              "      display:flex;\n",
              "      gap: 12px;\n",
              "    }\n",
              "\n",
              "    .colab-df-convert {\n",
              "      background-color: #E8F0FE;\n",
              "      border: none;\n",
              "      border-radius: 50%;\n",
              "      cursor: pointer;\n",
              "      display: none;\n",
              "      fill: #1967D2;\n",
              "      height: 32px;\n",
              "      padding: 0 0 0 0;\n",
              "      width: 32px;\n",
              "    }\n",
              "\n",
              "    .colab-df-convert:hover {\n",
              "      background-color: #E2EBFA;\n",
              "      box-shadow: 0px 1px 2px rgba(60, 64, 67, 0.3), 0px 1px 3px 1px rgba(60, 64, 67, 0.15);\n",
              "      fill: #174EA6;\n",
              "    }\n",
              "\n",
              "    .colab-df-buttons div {\n",
              "      margin-bottom: 4px;\n",
              "    }\n",
              "\n",
              "    [theme=dark] .colab-df-convert {\n",
              "      background-color: #3B4455;\n",
              "      fill: #D2E3FC;\n",
              "    }\n",
              "\n",
              "    [theme=dark] .colab-df-convert:hover {\n",
              "      background-color: #434B5C;\n",
              "      box-shadow: 0px 1px 3px 1px rgba(0, 0, 0, 0.15);\n",
              "      filter: drop-shadow(0px 1px 2px rgba(0, 0, 0, 0.3));\n",
              "      fill: #FFFFFF;\n",
              "    }\n",
              "  </style>\n",
              "\n",
              "    <script>\n",
              "      const buttonEl =\n",
              "        document.querySelector('#df-4f2716c7-bb62-4ba2-840c-0e5b2a320c53 button.colab-df-convert');\n",
              "      buttonEl.style.display =\n",
              "        google.colab.kernel.accessAllowed ? 'block' : 'none';\n",
              "\n",
              "      async function convertToInteractive(key) {\n",
              "        const element = document.querySelector('#df-4f2716c7-bb62-4ba2-840c-0e5b2a320c53');\n",
              "        const dataTable =\n",
              "          await google.colab.kernel.invokeFunction('convertToInteractive',\n",
              "                                                    [key], {});\n",
              "        if (!dataTable) return;\n",
              "\n",
              "        const docLinkHtml = 'Like what you see? Visit the ' +\n",
              "          '<a target=\"_blank\" href=https://colab.research.google.com/notebooks/data_table.ipynb>data table notebook</a>'\n",
              "          + ' to learn more about interactive tables.';\n",
              "        element.innerHTML = '';\n",
              "        dataTable['output_type'] = 'display_data';\n",
              "        await google.colab.output.renderOutput(dataTable, element);\n",
              "        const docLink = document.createElement('div');\n",
              "        docLink.innerHTML = docLinkHtml;\n",
              "        element.appendChild(docLink);\n",
              "      }\n",
              "    </script>\n",
              "  </div>\n",
              "\n",
              "\n",
              "<div id=\"df-34dad1b0-ab0d-4ed7-a91b-6d0ef6f98617\">\n",
              "  <button class=\"colab-df-quickchart\" onclick=\"quickchart('df-34dad1b0-ab0d-4ed7-a91b-6d0ef6f98617')\"\n",
              "            title=\"Suggest charts\"\n",
              "            style=\"display:none;\">\n",
              "\n",
              "<svg xmlns=\"http://www.w3.org/2000/svg\" height=\"24px\"viewBox=\"0 0 24 24\"\n",
              "     width=\"24px\">\n",
              "    <g>\n",
              "        <path d=\"M19 3H5c-1.1 0-2 .9-2 2v14c0 1.1.9 2 2 2h14c1.1 0 2-.9 2-2V5c0-1.1-.9-2-2-2zM9 17H7v-7h2v7zm4 0h-2V7h2v10zm4 0h-2v-4h2v4z\"/>\n",
              "    </g>\n",
              "</svg>\n",
              "  </button>\n",
              "\n",
              "<style>\n",
              "  .colab-df-quickchart {\n",
              "      --bg-color: #E8F0FE;\n",
              "      --fill-color: #1967D2;\n",
              "      --hover-bg-color: #E2EBFA;\n",
              "      --hover-fill-color: #174EA6;\n",
              "      --disabled-fill-color: #AAA;\n",
              "      --disabled-bg-color: #DDD;\n",
              "  }\n",
              "\n",
              "  [theme=dark] .colab-df-quickchart {\n",
              "      --bg-color: #3B4455;\n",
              "      --fill-color: #D2E3FC;\n",
              "      --hover-bg-color: #434B5C;\n",
              "      --hover-fill-color: #FFFFFF;\n",
              "      --disabled-bg-color: #3B4455;\n",
              "      --disabled-fill-color: #666;\n",
              "  }\n",
              "\n",
              "  .colab-df-quickchart {\n",
              "    background-color: var(--bg-color);\n",
              "    border: none;\n",
              "    border-radius: 50%;\n",
              "    cursor: pointer;\n",
              "    display: none;\n",
              "    fill: var(--fill-color);\n",
              "    height: 32px;\n",
              "    padding: 0;\n",
              "    width: 32px;\n",
              "  }\n",
              "\n",
              "  .colab-df-quickchart:hover {\n",
              "    background-color: var(--hover-bg-color);\n",
              "    box-shadow: 0 1px 2px rgba(60, 64, 67, 0.3), 0 1px 3px 1px rgba(60, 64, 67, 0.15);\n",
              "    fill: var(--button-hover-fill-color);\n",
              "  }\n",
              "\n",
              "  .colab-df-quickchart-complete:disabled,\n",
              "  .colab-df-quickchart-complete:disabled:hover {\n",
              "    background-color: var(--disabled-bg-color);\n",
              "    fill: var(--disabled-fill-color);\n",
              "    box-shadow: none;\n",
              "  }\n",
              "\n",
              "  .colab-df-spinner {\n",
              "    border: 2px solid var(--fill-color);\n",
              "    border-color: transparent;\n",
              "    border-bottom-color: var(--fill-color);\n",
              "    animation:\n",
              "      spin 1s steps(1) infinite;\n",
              "  }\n",
              "\n",
              "  @keyframes spin {\n",
              "    0% {\n",
              "      border-color: transparent;\n",
              "      border-bottom-color: var(--fill-color);\n",
              "      border-left-color: var(--fill-color);\n",
              "    }\n",
              "    20% {\n",
              "      border-color: transparent;\n",
              "      border-left-color: var(--fill-color);\n",
              "      border-top-color: var(--fill-color);\n",
              "    }\n",
              "    30% {\n",
              "      border-color: transparent;\n",
              "      border-left-color: var(--fill-color);\n",
              "      border-top-color: var(--fill-color);\n",
              "      border-right-color: var(--fill-color);\n",
              "    }\n",
              "    40% {\n",
              "      border-color: transparent;\n",
              "      border-right-color: var(--fill-color);\n",
              "      border-top-color: var(--fill-color);\n",
              "    }\n",
              "    60% {\n",
              "      border-color: transparent;\n",
              "      border-right-color: var(--fill-color);\n",
              "    }\n",
              "    80% {\n",
              "      border-color: transparent;\n",
              "      border-right-color: var(--fill-color);\n",
              "      border-bottom-color: var(--fill-color);\n",
              "    }\n",
              "    90% {\n",
              "      border-color: transparent;\n",
              "      border-bottom-color: var(--fill-color);\n",
              "    }\n",
              "  }\n",
              "</style>\n",
              "\n",
              "  <script>\n",
              "    async function quickchart(key) {\n",
              "      const quickchartButtonEl =\n",
              "        document.querySelector('#' + key + ' button');\n",
              "      quickchartButtonEl.disabled = true;  // To prevent multiple clicks.\n",
              "      quickchartButtonEl.classList.add('colab-df-spinner');\n",
              "      try {\n",
              "        const charts = await google.colab.kernel.invokeFunction(\n",
              "            'suggestCharts', [key], {});\n",
              "      } catch (error) {\n",
              "        console.error('Error during call to suggestCharts:', error);\n",
              "      }\n",
              "      quickchartButtonEl.classList.remove('colab-df-spinner');\n",
              "      quickchartButtonEl.classList.add('colab-df-quickchart-complete');\n",
              "    }\n",
              "    (() => {\n",
              "      let quickchartButtonEl =\n",
              "        document.querySelector('#df-34dad1b0-ab0d-4ed7-a91b-6d0ef6f98617 button');\n",
              "      quickchartButtonEl.style.display =\n",
              "        google.colab.kernel.accessAllowed ? 'block' : 'none';\n",
              "    })();\n",
              "  </script>\n",
              "</div>\n",
              "\n",
              "    </div>\n",
              "  </div>\n"
            ]
          },
          "metadata": {},
          "execution_count": 6
        }
      ]
    },
    {
      "cell_type": "code",
      "source": [
        "print(data.columns)\n"
      ],
      "metadata": {
        "colab": {
          "base_uri": "https://localhost:8080/"
        },
        "id": "HjRwjNuYoJ16",
        "outputId": "d1ac94d8-f33b-40f8-a4b3-f0546d64c700"
      },
      "execution_count": null,
      "outputs": [
        {
          "output_type": "stream",
          "name": "stdout",
          "text": [
            "Index(['Title', 'Sub_title', 'Price', 'Brand', 'Model', 'Edition', 'Year',\n",
            "       'Condition', 'Transmission', 'Body', 'Fuel', 'Capacity', 'Mileage',\n",
            "       'Location', 'Description', 'Post_URL', 'Seller_name', 'Seller_type',\n",
            "       'published_date'],\n",
            "      dtype='object')\n"
          ]
        }
      ]
    },
    {
      "cell_type": "code",
      "source": [
        "data=data.drop(columns=['Title','Sub_title','Edition','Transmission','Body','Fuel','Capacity','Mileage','Location','Description','Post_URL','Seller_name','Seller_type','published_date'])"
      ],
      "metadata": {
        "id": "s-nbhrNnhxgn"
      },
      "execution_count": null,
      "outputs": []
    },
    {
      "cell_type": "code",
      "source": [
        "data.head(5)"
      ],
      "metadata": {
        "colab": {
          "base_uri": "https://localhost:8080/",
          "height": 206
        },
        "id": "PEjNP2s7kmAa",
        "outputId": "687e34c5-d16d-47d7-848f-ebbd9b13842e"
      },
      "execution_count": null,
      "outputs": [
        {
          "output_type": "execute_result",
          "data": {
            "text/plain": [
              "           Price   Brand               Model  Year Condition\n",
              "0  Rs 12,900,000   Honda               Vezel  2017      Used\n",
              "1  Rs 16,250,000  Jaguar                  XF  2013      Used\n",
              "2  Rs 17,000,000  Toyota                 CHR  2020      Used\n",
              "3  Rs 13,000,000  Toyota                 CHR  2017      Used\n",
              "4  Rs 33,500,000  Toyota  Land Cruiser Prado  2015      Used"
            ],
            "text/html": [
              "\n",
              "  <div id=\"df-cf4c8b8b-b9be-484c-9249-d981da08f30a\" class=\"colab-df-container\">\n",
              "    <div>\n",
              "<style scoped>\n",
              "    .dataframe tbody tr th:only-of-type {\n",
              "        vertical-align: middle;\n",
              "    }\n",
              "\n",
              "    .dataframe tbody tr th {\n",
              "        vertical-align: top;\n",
              "    }\n",
              "\n",
              "    .dataframe thead th {\n",
              "        text-align: right;\n",
              "    }\n",
              "</style>\n",
              "<table border=\"1\" class=\"dataframe\">\n",
              "  <thead>\n",
              "    <tr style=\"text-align: right;\">\n",
              "      <th></th>\n",
              "      <th>Price</th>\n",
              "      <th>Brand</th>\n",
              "      <th>Model</th>\n",
              "      <th>Year</th>\n",
              "      <th>Condition</th>\n",
              "    </tr>\n",
              "  </thead>\n",
              "  <tbody>\n",
              "    <tr>\n",
              "      <th>0</th>\n",
              "      <td>Rs 12,900,000</td>\n",
              "      <td>Honda</td>\n",
              "      <td>Vezel</td>\n",
              "      <td>2017</td>\n",
              "      <td>Used</td>\n",
              "    </tr>\n",
              "    <tr>\n",
              "      <th>1</th>\n",
              "      <td>Rs 16,250,000</td>\n",
              "      <td>Jaguar</td>\n",
              "      <td>XF</td>\n",
              "      <td>2013</td>\n",
              "      <td>Used</td>\n",
              "    </tr>\n",
              "    <tr>\n",
              "      <th>2</th>\n",
              "      <td>Rs 17,000,000</td>\n",
              "      <td>Toyota</td>\n",
              "      <td>CHR</td>\n",
              "      <td>2020</td>\n",
              "      <td>Used</td>\n",
              "    </tr>\n",
              "    <tr>\n",
              "      <th>3</th>\n",
              "      <td>Rs 13,000,000</td>\n",
              "      <td>Toyota</td>\n",
              "      <td>CHR</td>\n",
              "      <td>2017</td>\n",
              "      <td>Used</td>\n",
              "    </tr>\n",
              "    <tr>\n",
              "      <th>4</th>\n",
              "      <td>Rs 33,500,000</td>\n",
              "      <td>Toyota</td>\n",
              "      <td>Land Cruiser Prado</td>\n",
              "      <td>2015</td>\n",
              "      <td>Used</td>\n",
              "    </tr>\n",
              "  </tbody>\n",
              "</table>\n",
              "</div>\n",
              "    <div class=\"colab-df-buttons\">\n",
              "\n",
              "  <div class=\"colab-df-container\">\n",
              "    <button class=\"colab-df-convert\" onclick=\"convertToInteractive('df-cf4c8b8b-b9be-484c-9249-d981da08f30a')\"\n",
              "            title=\"Convert this dataframe to an interactive table.\"\n",
              "            style=\"display:none;\">\n",
              "\n",
              "  <svg xmlns=\"http://www.w3.org/2000/svg\" height=\"24px\" viewBox=\"0 -960 960 960\">\n",
              "    <path d=\"M120-120v-720h720v720H120Zm60-500h600v-160H180v160Zm220 220h160v-160H400v160Zm0 220h160v-160H400v160ZM180-400h160v-160H180v160Zm440 0h160v-160H620v160ZM180-180h160v-160H180v160Zm440 0h160v-160H620v160Z\"/>\n",
              "  </svg>\n",
              "    </button>\n",
              "\n",
              "  <style>\n",
              "    .colab-df-container {\n",
              "      display:flex;\n",
              "      gap: 12px;\n",
              "    }\n",
              "\n",
              "    .colab-df-convert {\n",
              "      background-color: #E8F0FE;\n",
              "      border: none;\n",
              "      border-radius: 50%;\n",
              "      cursor: pointer;\n",
              "      display: none;\n",
              "      fill: #1967D2;\n",
              "      height: 32px;\n",
              "      padding: 0 0 0 0;\n",
              "      width: 32px;\n",
              "    }\n",
              "\n",
              "    .colab-df-convert:hover {\n",
              "      background-color: #E2EBFA;\n",
              "      box-shadow: 0px 1px 2px rgba(60, 64, 67, 0.3), 0px 1px 3px 1px rgba(60, 64, 67, 0.15);\n",
              "      fill: #174EA6;\n",
              "    }\n",
              "\n",
              "    .colab-df-buttons div {\n",
              "      margin-bottom: 4px;\n",
              "    }\n",
              "\n",
              "    [theme=dark] .colab-df-convert {\n",
              "      background-color: #3B4455;\n",
              "      fill: #D2E3FC;\n",
              "    }\n",
              "\n",
              "    [theme=dark] .colab-df-convert:hover {\n",
              "      background-color: #434B5C;\n",
              "      box-shadow: 0px 1px 3px 1px rgba(0, 0, 0, 0.15);\n",
              "      filter: drop-shadow(0px 1px 2px rgba(0, 0, 0, 0.3));\n",
              "      fill: #FFFFFF;\n",
              "    }\n",
              "  </style>\n",
              "\n",
              "    <script>\n",
              "      const buttonEl =\n",
              "        document.querySelector('#df-cf4c8b8b-b9be-484c-9249-d981da08f30a button.colab-df-convert');\n",
              "      buttonEl.style.display =\n",
              "        google.colab.kernel.accessAllowed ? 'block' : 'none';\n",
              "\n",
              "      async function convertToInteractive(key) {\n",
              "        const element = document.querySelector('#df-cf4c8b8b-b9be-484c-9249-d981da08f30a');\n",
              "        const dataTable =\n",
              "          await google.colab.kernel.invokeFunction('convertToInteractive',\n",
              "                                                    [key], {});\n",
              "        if (!dataTable) return;\n",
              "\n",
              "        const docLinkHtml = 'Like what you see? Visit the ' +\n",
              "          '<a target=\"_blank\" href=https://colab.research.google.com/notebooks/data_table.ipynb>data table notebook</a>'\n",
              "          + ' to learn more about interactive tables.';\n",
              "        element.innerHTML = '';\n",
              "        dataTable['output_type'] = 'display_data';\n",
              "        await google.colab.output.renderOutput(dataTable, element);\n",
              "        const docLink = document.createElement('div');\n",
              "        docLink.innerHTML = docLinkHtml;\n",
              "        element.appendChild(docLink);\n",
              "      }\n",
              "    </script>\n",
              "  </div>\n",
              "\n",
              "\n",
              "<div id=\"df-bfec24c7-2851-46f1-8814-4e7a7461926b\">\n",
              "  <button class=\"colab-df-quickchart\" onclick=\"quickchart('df-bfec24c7-2851-46f1-8814-4e7a7461926b')\"\n",
              "            title=\"Suggest charts\"\n",
              "            style=\"display:none;\">\n",
              "\n",
              "<svg xmlns=\"http://www.w3.org/2000/svg\" height=\"24px\"viewBox=\"0 0 24 24\"\n",
              "     width=\"24px\">\n",
              "    <g>\n",
              "        <path d=\"M19 3H5c-1.1 0-2 .9-2 2v14c0 1.1.9 2 2 2h14c1.1 0 2-.9 2-2V5c0-1.1-.9-2-2-2zM9 17H7v-7h2v7zm4 0h-2V7h2v10zm4 0h-2v-4h2v4z\"/>\n",
              "    </g>\n",
              "</svg>\n",
              "  </button>\n",
              "\n",
              "<style>\n",
              "  .colab-df-quickchart {\n",
              "      --bg-color: #E8F0FE;\n",
              "      --fill-color: #1967D2;\n",
              "      --hover-bg-color: #E2EBFA;\n",
              "      --hover-fill-color: #174EA6;\n",
              "      --disabled-fill-color: #AAA;\n",
              "      --disabled-bg-color: #DDD;\n",
              "  }\n",
              "\n",
              "  [theme=dark] .colab-df-quickchart {\n",
              "      --bg-color: #3B4455;\n",
              "      --fill-color: #D2E3FC;\n",
              "      --hover-bg-color: #434B5C;\n",
              "      --hover-fill-color: #FFFFFF;\n",
              "      --disabled-bg-color: #3B4455;\n",
              "      --disabled-fill-color: #666;\n",
              "  }\n",
              "\n",
              "  .colab-df-quickchart {\n",
              "    background-color: var(--bg-color);\n",
              "    border: none;\n",
              "    border-radius: 50%;\n",
              "    cursor: pointer;\n",
              "    display: none;\n",
              "    fill: var(--fill-color);\n",
              "    height: 32px;\n",
              "    padding: 0;\n",
              "    width: 32px;\n",
              "  }\n",
              "\n",
              "  .colab-df-quickchart:hover {\n",
              "    background-color: var(--hover-bg-color);\n",
              "    box-shadow: 0 1px 2px rgba(60, 64, 67, 0.3), 0 1px 3px 1px rgba(60, 64, 67, 0.15);\n",
              "    fill: var(--button-hover-fill-color);\n",
              "  }\n",
              "\n",
              "  .colab-df-quickchart-complete:disabled,\n",
              "  .colab-df-quickchart-complete:disabled:hover {\n",
              "    background-color: var(--disabled-bg-color);\n",
              "    fill: var(--disabled-fill-color);\n",
              "    box-shadow: none;\n",
              "  }\n",
              "\n",
              "  .colab-df-spinner {\n",
              "    border: 2px solid var(--fill-color);\n",
              "    border-color: transparent;\n",
              "    border-bottom-color: var(--fill-color);\n",
              "    animation:\n",
              "      spin 1s steps(1) infinite;\n",
              "  }\n",
              "\n",
              "  @keyframes spin {\n",
              "    0% {\n",
              "      border-color: transparent;\n",
              "      border-bottom-color: var(--fill-color);\n",
              "      border-left-color: var(--fill-color);\n",
              "    }\n",
              "    20% {\n",
              "      border-color: transparent;\n",
              "      border-left-color: var(--fill-color);\n",
              "      border-top-color: var(--fill-color);\n",
              "    }\n",
              "    30% {\n",
              "      border-color: transparent;\n",
              "      border-left-color: var(--fill-color);\n",
              "      border-top-color: var(--fill-color);\n",
              "      border-right-color: var(--fill-color);\n",
              "    }\n",
              "    40% {\n",
              "      border-color: transparent;\n",
              "      border-right-color: var(--fill-color);\n",
              "      border-top-color: var(--fill-color);\n",
              "    }\n",
              "    60% {\n",
              "      border-color: transparent;\n",
              "      border-right-color: var(--fill-color);\n",
              "    }\n",
              "    80% {\n",
              "      border-color: transparent;\n",
              "      border-right-color: var(--fill-color);\n",
              "      border-bottom-color: var(--fill-color);\n",
              "    }\n",
              "    90% {\n",
              "      border-color: transparent;\n",
              "      border-bottom-color: var(--fill-color);\n",
              "    }\n",
              "  }\n",
              "</style>\n",
              "\n",
              "  <script>\n",
              "    async function quickchart(key) {\n",
              "      const quickchartButtonEl =\n",
              "        document.querySelector('#' + key + ' button');\n",
              "      quickchartButtonEl.disabled = true;  // To prevent multiple clicks.\n",
              "      quickchartButtonEl.classList.add('colab-df-spinner');\n",
              "      try {\n",
              "        const charts = await google.colab.kernel.invokeFunction(\n",
              "            'suggestCharts', [key], {});\n",
              "      } catch (error) {\n",
              "        console.error('Error during call to suggestCharts:', error);\n",
              "      }\n",
              "      quickchartButtonEl.classList.remove('colab-df-spinner');\n",
              "      quickchartButtonEl.classList.add('colab-df-quickchart-complete');\n",
              "    }\n",
              "    (() => {\n",
              "      let quickchartButtonEl =\n",
              "        document.querySelector('#df-bfec24c7-2851-46f1-8814-4e7a7461926b button');\n",
              "      quickchartButtonEl.style.display =\n",
              "        google.colab.kernel.accessAllowed ? 'block' : 'none';\n",
              "    })();\n",
              "  </script>\n",
              "</div>\n",
              "\n",
              "    </div>\n",
              "  </div>\n"
            ]
          },
          "metadata": {},
          "execution_count": 9
        }
      ]
    },
    {
      "cell_type": "code",
      "source": [
        "df = pd.DataFrame(data)\n",
        "\n",
        "df['Price'] = df['Price'].str.replace(r'\\D', '', regex=True)\n",
        "df['Price'] = pd.to_numeric(df['Price'], errors='coerce')\n",
        "\n",
        "print(df)"
      ],
      "metadata": {
        "colab": {
          "base_uri": "https://localhost:8080/"
        },
        "id": "LowSkxpBJkKF",
        "outputId": "6fd56c43-608d-4f5e-f705-c30e26a20478"
      },
      "execution_count": null,
      "outputs": [
        {
          "output_type": "stream",
          "name": "stdout",
          "text": [
            "          Price   Brand               Model  Year Condition\n",
            "0      12900000   Honda               Vezel  2017      Used\n",
            "1      16250000  Jaguar                  XF  2013      Used\n",
            "2      17000000  Toyota                 CHR  2020      Used\n",
            "3      13000000  Toyota                 CHR  2017      Used\n",
            "4      33500000  Toyota  Land Cruiser Prado  2015      Used\n",
            "...         ...     ...                 ...   ...       ...\n",
            "49995   6995000  Toyota                Vitz  2016      Used\n",
            "49996   5590000  Toyota                Aqua  2012      Used\n",
            "49997   6885000  Toyota               Prius  2013      Used\n",
            "49998  42500000  Toyota  Land Cruiser Prado  2017      Used\n",
            "49999  18100000     BMW                  X3  2012      Used\n",
            "\n",
            "[50000 rows x 5 columns]\n"
          ]
        }
      ]
    },
    {
      "cell_type": "code",
      "source": [
        "data.shape"
      ],
      "metadata": {
        "colab": {
          "base_uri": "https://localhost:8080/"
        },
        "id": "bwYIiiGGp2d0",
        "outputId": "3de5100b-e659-474d-e9e7-7a2bebe215c4"
      },
      "execution_count": null,
      "outputs": [
        {
          "output_type": "execute_result",
          "data": {
            "text/plain": [
              "(50000, 5)"
            ]
          },
          "metadata": {},
          "execution_count": 11
        }
      ]
    },
    {
      "cell_type": "code",
      "source": [
        "data.info()"
      ],
      "metadata": {
        "colab": {
          "base_uri": "https://localhost:8080/"
        },
        "id": "0uTUDkhfp8YQ",
        "outputId": "9ef0e14c-7692-418e-eacb-838354fc0280"
      },
      "execution_count": null,
      "outputs": [
        {
          "output_type": "stream",
          "name": "stdout",
          "text": [
            "<class 'pandas.core.frame.DataFrame'>\n",
            "RangeIndex: 50000 entries, 0 to 49999\n",
            "Data columns (total 5 columns):\n",
            " #   Column     Non-Null Count  Dtype \n",
            "---  ------     --------------  ----- \n",
            " 0   Price      50000 non-null  int64 \n",
            " 1   Brand      50000 non-null  object\n",
            " 2   Model      50000 non-null  object\n",
            " 3   Year       50000 non-null  int64 \n",
            " 4   Condition  50000 non-null  object\n",
            "dtypes: int64(2), object(3)\n",
            "memory usage: 1.9+ MB\n"
          ]
        }
      ]
    },
    {
      "cell_type": "code",
      "source": [
        "data['Brand'].value_counts()"
      ],
      "metadata": {
        "id": "iAV2S03aqG83",
        "colab": {
          "base_uri": "https://localhost:8080/"
        },
        "outputId": "bb5ca6d8-a806-4163-8f31-9e0a25facc25"
      },
      "execution_count": null,
      "outputs": [
        {
          "output_type": "execute_result",
          "data": {
            "text/plain": [
              "Toyota           16056\n",
              "Suzuki            7650\n",
              "Honda             4573\n",
              "Nissan            4258\n",
              "Mitsubishi        3261\n",
              "Mercedes Benz     1790\n",
              "BMW               1613\n",
              "Micro             1078\n",
              "Land Rover         992\n",
              "Audi               857\n",
              "Hyundai            801\n",
              "Daihatsu           797\n",
              "Kia                795\n",
              "Mazda              755\n",
              "Tata               496\n",
              "Perodua            429\n",
              "Maruti Suzuki      394\n",
              "Peugeot            392\n",
              "Ford               327\n",
              "DFSK               224\n",
              "MG                 206\n",
              "Volkswagen         182\n",
              "Renault            180\n",
              "Isuzu              130\n",
              "Ssang Yong         128\n",
              "Mini               111\n",
              "Mahindra           107\n",
              "Morris             106\n",
              "Jaguar             103\n",
              "Datsun             103\n",
              "Other brand        102\n",
              "Subaru              95\n",
              "Chevrolet           92\n",
              "Chery               88\n",
              "Austin              80\n",
              "Zotye               77\n",
              "Porsche             68\n",
              "Jeep                66\n",
              "Proton              64\n",
              "Lexus               62\n",
              "Fiat                55\n",
              "Volvo               51\n",
              "Chrysler            36\n",
              "Daewoo              36\n",
              "Maruti              29\n",
              "Opel                22\n",
              "Skoda               19\n",
              "Hummer              14\n",
              "Tesla               12\n",
              "Alfa Romeo          10\n",
              "Rover                7\n",
              "Citroen              7\n",
              "SEAT                 4\n",
              "Aston Martin         2\n",
              "Smart                2\n",
              "Vauxhall             2\n",
              "Geely                1\n",
              "Moto Guzzi           1\n",
              "Pontiac              1\n",
              "Changan              1\n",
              "Name: Brand, dtype: int64"
            ]
          },
          "metadata": {},
          "execution_count": 13
        }
      ]
    },
    {
      "cell_type": "code",
      "source": [
        "data['Model'].value_counts()"
      ],
      "metadata": {
        "id": "EA-4Kw_urJLT",
        "colab": {
          "base_uri": "https://localhost:8080/"
        },
        "outputId": "f79c7bfa-787e-4ec2-af2c-00a74cb92437"
      },
      "execution_count": null,
      "outputs": [
        {
          "output_type": "execute_result",
          "data": {
            "text/plain": [
              "Vitz       2035\n",
              "Alto       1957\n",
              "Axio       1532\n",
              "Sunny      1508\n",
              "Premio     1434\n",
              "           ... \n",
              "Viva          1\n",
              "Spike         1\n",
              "Forfour       1\n",
              "Espero        1\n",
              "CLA 250       1\n",
              "Name: Model, Length: 571, dtype: int64"
            ]
          },
          "metadata": {},
          "execution_count": 14
        }
      ]
    },
    {
      "cell_type": "code",
      "source": [
        "data['Condition'].value_counts()"
      ],
      "metadata": {
        "id": "h1bl05qWrgHG",
        "colab": {
          "base_uri": "https://localhost:8080/"
        },
        "outputId": "ab390fb4-043a-4e73-82cd-6236f2d31963"
      },
      "execution_count": null,
      "outputs": [
        {
          "output_type": "execute_result",
          "data": {
            "text/plain": [
              "Used             48220\n",
              "Reconditioned     1258\n",
              "New                522\n",
              "Name: Condition, dtype: int64"
            ]
          },
          "metadata": {},
          "execution_count": 15
        }
      ]
    },
    {
      "cell_type": "code",
      "source": [
        "from sklearn.compose import ColumnTransformer\n",
        "from sklearn.preprocessing import OneHotEncoder"
      ],
      "metadata": {
        "id": "4yh-wo9pKZBr"
      },
      "execution_count": null,
      "outputs": []
    },
    {
      "cell_type": "code",
      "source": [
        "# Convert relevant columns to strings\n",
        "data['Brand'] = data['Brand'].astype(str)\n",
        "data['Model'] = data['Model'].astype(str)\n",
        "data['Condition'] = data['Condition'].astype(str)\n",
        "data['Year'] = data['Year'].astype(str)"
      ],
      "metadata": {
        "id": "LyoQBt33KZGz"
      },
      "execution_count": null,
      "outputs": []
    },
    {
      "cell_type": "code",
      "source": [
        "X = data.drop('Price', axis=1)\n",
        "y = data['Price']\n",
        "print(y)"
      ],
      "metadata": {
        "colab": {
          "base_uri": "https://localhost:8080/"
        },
        "id": "2lxvQ8HeKZLe",
        "outputId": "bf26c195-6a15-4a2d-a5dd-1b08dbb0b103"
      },
      "execution_count": null,
      "outputs": [
        {
          "output_type": "stream",
          "name": "stdout",
          "text": [
            "0        12900000\n",
            "1        16250000\n",
            "2        17000000\n",
            "3        13000000\n",
            "4        33500000\n",
            "           ...   \n",
            "49995     6995000\n",
            "49996     5590000\n",
            "49997     6885000\n",
            "49998    42500000\n",
            "49999    18100000\n",
            "Name: Price, Length: 50000, dtype: int64\n"
          ]
        }
      ]
    },
    {
      "cell_type": "code",
      "source": [
        "print(X)"
      ],
      "metadata": {
        "colab": {
          "base_uri": "https://localhost:8080/"
        },
        "id": "bt7AHfgC2JOT",
        "outputId": "61d7bb38-f315-4a77-c7ff-cad250e7b628"
      },
      "execution_count": null,
      "outputs": [
        {
          "output_type": "stream",
          "name": "stdout",
          "text": [
            "        Brand               Model  Year Condition\n",
            "0       Honda               Vezel  2017      Used\n",
            "1      Jaguar                  XF  2013      Used\n",
            "2      Toyota                 CHR  2020      Used\n",
            "3      Toyota                 CHR  2017      Used\n",
            "4      Toyota  Land Cruiser Prado  2015      Used\n",
            "...       ...                 ...   ...       ...\n",
            "49995  Toyota                Vitz  2016      Used\n",
            "49996  Toyota                Aqua  2012      Used\n",
            "49997  Toyota               Prius  2013      Used\n",
            "49998  Toyota  Land Cruiser Prado  2017      Used\n",
            "49999     BMW                  X3  2012      Used\n",
            "\n",
            "[50000 rows x 4 columns]\n"
          ]
        }
      ]
    },
    {
      "cell_type": "code",
      "source": [
        "X.shape , y.shape"
      ],
      "metadata": {
        "colab": {
          "base_uri": "https://localhost:8080/"
        },
        "id": "i6kDMdiulZfT",
        "outputId": "9b406156-8832-4284-c87f-73bf9cde00e5"
      },
      "execution_count": null,
      "outputs": [
        {
          "output_type": "execute_result",
          "data": {
            "text/plain": [
              "((50000, 4), (50000,))"
            ]
          },
          "metadata": {},
          "execution_count": 20
        }
      ]
    },
    {
      "cell_type": "code",
      "source": [
        "plt.figure(figsize=(20, 6))\n",
        "plt.scatter(data['Year'], data['Price'], alpha=1,c='g')\n",
        "plt.title('Price vs. Year')\n",
        "plt.xlabel('Year')\n",
        "plt.ylabel('Price')\n",
        "plt.grid(True)\n",
        "plt.show()"
      ],
      "metadata": {
        "colab": {
          "base_uri": "https://localhost:8080/",
          "height": 521
        },
        "id": "_z4QSy2ypswK",
        "outputId": "44b7e533-aacb-4bc2-c902-b2d72c8c28ce"
      },
      "execution_count": null,
      "outputs": [
        {
          "output_type": "display_data",
          "data": {
            "text/plain": [
              "<Figure size 2000x600 with 1 Axes>"
            ],
            "image/png": "[encoded data removed]"
          },
          "metadata": {}
        }
      ]
    },
    {
      "cell_type": "code",
      "source": [
        "# Define the categorical features to be one-hot encoded\n",
        "cat_features = ['Brand', 'Model', 'Year', 'Condition']\n",
        "# Create the column transformer for one-hot encoding\n",
        "preprocessor = ColumnTransformer(\n",
        "    transformers=[('encoder', OneHotEncoder(), cat_features)],\n",
        "    remainder='passthrough')"
      ],
      "metadata": {
        "id": "aBIgfFEXKZQQ"
      },
      "execution_count": null,
      "outputs": []
    },
    {
      "cell_type": "code",
      "source": [
        "# Apply the column transformer to the features\n",
        "x = preprocessor.fit_transform(X)\n",
        "print(x)"
      ],
      "metadata": {
        "colab": {
          "base_uri": "https://localhost:8080/"
        },
        "id": "kYfejROhKZZ3",
        "outputId": "41cf0831-23cb-4c44-b931-11cffb5813f8"
      },
      "execution_count": null,
      "outputs": [
        {
          "output_type": "stream",
          "name": "stdout",
          "text": [
            "  (0, 17)\t1.0\n",
            "  (0, 573)\t1.0\n",
            "  (0, 707)\t1.0\n",
            "  (0, 715)\t1.0\n",
            "  (1, 21)\t1.0\n",
            "  (1, 608)\t1.0\n",
            "  (1, 703)\t1.0\n",
            "  (1, 715)\t1.0\n",
            "  (2, 55)\t1.0\n",
            "  (2, 191)\t1.0\n",
            "  (2, 710)\t1.0\n",
            "  (2, 715)\t1.0\n",
            "  (3, 55)\t1.0\n",
            "  (3, 191)\t1.0\n",
            "  (3, 707)\t1.0\n",
            "  (3, 715)\t1.0\n",
            "  (4, 55)\t1.0\n",
            "  (4, 370)\t1.0\n",
            "  (4, 705)\t1.0\n",
            "  (4, 715)\t1.0\n",
            "  (5, 55)\t1.0\n",
            "  (5, 370)\t1.0\n",
            "  (5, 697)\t1.0\n",
            "  (5, 715)\t1.0\n",
            "  (6, 17)\t1.0\n",
            "  :\t:\n",
            "  (49993, 715)\t1.0\n",
            "  (49994, 17)\t1.0\n",
            "  (49994, 573)\t1.0\n",
            "  (49994, 704)\t1.0\n",
            "  (49994, 715)\t1.0\n",
            "  (49995, 55)\t1.0\n",
            "  (49995, 576)\t1.0\n",
            "  (49995, 706)\t1.0\n",
            "  (49995, 715)\t1.0\n",
            "  (49996, 55)\t1.0\n",
            "  (49996, 152)\t1.0\n",
            "  (49996, 702)\t1.0\n",
            "  (49996, 715)\t1.0\n",
            "  (49997, 55)\t1.0\n",
            "  (49997, 453)\t1.0\n",
            "  (49997, 703)\t1.0\n",
            "  (49997, 715)\t1.0\n",
            "  (49998, 55)\t1.0\n",
            "  (49998, 370)\t1.0\n",
            "  (49998, 707)\t1.0\n",
            "  (49998, 715)\t1.0\n",
            "  (49999, 4)\t1.0\n",
            "  (49999, 599)\t1.0\n",
            "  (49999, 702)\t1.0\n",
            "  (49999, 715)\t1.0\n"
          ]
        }
      ]
    },
    {
      "cell_type": "code",
      "source": [
        "# Access the transformers_ attribute to see the details of the transformation\n",
        "transformers = preprocessor.transformers_\n",
        "\n",
        "# Find the index of the 'Year' feature in the transformed columns\n",
        "for name, transformer, features in transformers:\n",
        "    if 'Year' in features:\n",
        "        year_column_index = features.index('Year')\n",
        "        break\n",
        "\n",
        "print(\"Index of 'Year' column:\", year_column_index)"
      ],
      "metadata": {
        "colab": {
          "base_uri": "https://localhost:8080/"
        },
        "id": "4iGQEiG7sS3O",
        "outputId": "9932f678-10d4-4653-b205-ade1e252a773"
      },
      "execution_count": null,
      "outputs": [
        {
          "output_type": "stream",
          "name": "stdout",
          "text": [
            "Index of 'Year' column: 2\n"
          ]
        }
      ]
    },
    {
      "cell_type": "code",
      "source": [
        "y.shape"
      ],
      "metadata": {
        "colab": {
          "base_uri": "https://localhost:8080/"
        },
        "id": "91qy5L0tyWBb",
        "outputId": "f9047812-95ea-4cb5-a54d-f2e3aa60d51b"
      },
      "execution_count": null,
      "outputs": [
        {
          "output_type": "execute_result",
          "data": {
            "text/plain": [
              "(50000,)"
            ]
          },
          "metadata": {},
          "execution_count": 25
        }
      ]
    },
    {
      "cell_type": "code",
      "source": [
        "x.shape"
      ],
      "metadata": {
        "colab": {
          "base_uri": "https://localhost:8080/"
        },
        "id": "w4D_VVI7lLN0",
        "outputId": "8e615ef6-1f24-4ffe-b40b-d4d8592933fa"
      },
      "execution_count": null,
      "outputs": [
        {
          "output_type": "execute_result",
          "data": {
            "text/plain": [
              "(50000, 716)"
            ]
          },
          "metadata": {},
          "execution_count": 26
        }
      ]
    },
    {
      "cell_type": "code",
      "source": [
        "data.shape"
      ],
      "metadata": {
        "colab": {
          "base_uri": "https://localhost:8080/"
        },
        "id": "xW36THFk6UnT",
        "outputId": "9f86f91a-3d61-4b27-c3b9-6c69e2faa639"
      },
      "execution_count": null,
      "outputs": [
        {
          "output_type": "execute_result",
          "data": {
            "text/plain": [
              "(50000, 5)"
            ]
          },
          "metadata": {},
          "execution_count": 27
        }
      ]
    },
    {
      "cell_type": "code",
      "source": [
        "data.head(5)"
      ],
      "metadata": {
        "colab": {
          "base_uri": "https://localhost:8080/",
          "height": 206
        },
        "id": "ERvx2tvoPP7y",
        "outputId": "48b46dd2-72b6-42da-b643-e0380e5ed108"
      },
      "execution_count": null,
      "outputs": [
        {
          "output_type": "execute_result",
          "data": {
            "text/plain": [
              "      Price   Brand               Model  Year Condition\n",
              "0  12900000   Honda               Vezel  2017      Used\n",
              "1  16250000  Jaguar                  XF  2013      Used\n",
              "2  17000000  Toyota                 CHR  2020      Used\n",
              "3  13000000  Toyota                 CHR  2017      Used\n",
              "4  33500000  Toyota  Land Cruiser Prado  2015      Used"
            ],
            "text/html": [
              "\n",
              "  <div id=\"df-40ca4bda-913d-4ea7-9981-a78a3c95917c\" class=\"colab-df-container\">\n",
              "    <div>\n",
              "<style scoped>\n",
              "    .dataframe tbody tr th:only-of-type {\n",
              "        vertical-align: middle;\n",
              "    }\n",
              "\n",
              "    .dataframe tbody tr th {\n",
              "        vertical-align: top;\n",
              "    }\n",
              "\n",
              "    .dataframe thead th {\n",
              "        text-align: right;\n",
              "    }\n",
              "</style>\n",
              "<table border=\"1\" class=\"dataframe\">\n",
              "  <thead>\n",
              "    <tr style=\"text-align: right;\">\n",
              "      <th></th>\n",
              "      <th>Price</th>\n",
              "      <th>Brand</th>\n",
              "      <th>Model</th>\n",
              "      <th>Year</th>\n",
              "      <th>Condition</th>\n",
              "    </tr>\n",
              "  </thead>\n",
              "  <tbody>\n",
              "    <tr>\n",
              "      <th>0</th>\n",
              "      <td>12900000</td>\n",
              "      <td>Honda</td>\n",
              "      <td>Vezel</td>\n",
              "      <td>2017</td>\n",
              "      <td>Used</td>\n",
              "    </tr>\n",
              "    <tr>\n",
              "      <th>1</th>\n",
              "      <td>16250000</td>\n",
              "      <td>Jaguar</td>\n",
              "      <td>XF</td>\n",
              "      <td>2013</td>\n",
              "      <td>Used</td>\n",
              "    </tr>\n",
              "    <tr>\n",
              "      <th>2</th>\n",
              "      <td>17000000</td>\n",
              "      <td>Toyota</td>\n",
              "      <td>CHR</td>\n",
              "      <td>2020</td>\n",
              "      <td>Used</td>\n",
              "    </tr>\n",
              "    <tr>\n",
              "      <th>3</th>\n",
              "      <td>13000000</td>\n",
              "      <td>Toyota</td>\n",
              "      <td>CHR</td>\n",
              "      <td>2017</td>\n",
              "      <td>Used</td>\n",
              "    </tr>\n",
              "    <tr>\n",
              "      <th>4</th>\n",
              "      <td>33500000</td>\n",
              "      <td>Toyota</td>\n",
              "      <td>Land Cruiser Prado</td>\n",
              "      <td>2015</td>\n",
              "      <td>Used</td>\n",
              "    </tr>\n",
              "  </tbody>\n",
              "</table>\n",
              "</div>\n",
              "    <div class=\"colab-df-buttons\">\n",
              "\n",
              "  <div class=\"colab-df-container\">\n",
              "    <button class=\"colab-df-convert\" onclick=\"convertToInteractive('df-40ca4bda-913d-4ea7-9981-a78a3c95917c')\"\n",
              "            title=\"Convert this dataframe to an interactive table.\"\n",
              "            style=\"display:none;\">\n",
              "\n",
              "  <svg xmlns=\"http://www.w3.org/2000/svg\" height=\"24px\" viewBox=\"0 -960 960 960\">\n",
              "    <path d=\"M120-120v-720h720v720H120Zm60-500h600v-160H180v160Zm220 220h160v-160H400v160Zm0 220h160v-160H400v160ZM180-400h160v-160H180v160Zm440 0h160v-160H620v160ZM180-180h160v-160H180v160Zm440 0h160v-160H620v160Z\"/>\n",
              "  </svg>\n",
              "    </button>\n",
              "\n",
              "  <style>\n",
              "    .colab-df-container {\n",
              "      display:flex;\n",
              "      gap: 12px;\n",
              "    }\n",
              "\n",
              "    .colab-df-convert {\n",
              "      background-color: #E8F0FE;\n",
              "      border: none;\n",
              "      border-radius: 50%;\n",
              "      cursor: pointer;\n",
              "      display: none;\n",
              "      fill: #1967D2;\n",
              "      height: 32px;\n",
              "      padding: 0 0 0 0;\n",
              "      width: 32px;\n",
              "    }\n",
              "\n",
              "    .colab-df-convert:hover {\n",
              "      background-color: #E2EBFA;\n",
              "      box-shadow: 0px 1px 2px rgba(60, 64, 67, 0.3), 0px 1px 3px 1px rgba(60, 64, 67, 0.15);\n",
              "      fill: #174EA6;\n",
              "    }\n",
              "\n",
              "    .colab-df-buttons div {\n",
              "      margin-bottom: 4px;\n",
              "    }\n",
              "\n",
              "    [theme=dark] .colab-df-convert {\n",
              "      background-color: #3B4455;\n",
              "      fill: #D2E3FC;\n",
              "    }\n",
              "\n",
              "    [theme=dark] .colab-df-convert:hover {\n",
              "      background-color: #434B5C;\n",
              "      box-shadow: 0px 1px 3px 1px rgba(0, 0, 0, 0.15);\n",
              "      filter: drop-shadow(0px 1px 2px rgba(0, 0, 0, 0.3));\n",
              "      fill: #FFFFFF;\n",
              "    }\n",
              "  </style>\n",
              "\n",
              "    <script>\n",
              "      const buttonEl =\n",
              "        document.querySelector('#df-40ca4bda-913d-4ea7-9981-a78a3c95917c button.colab-df-convert');\n",
              "      buttonEl.style.display =\n",
              "        google.colab.kernel.accessAllowed ? 'block' : 'none';\n",
              "\n",
              "      async function convertToInteractive(key) {\n",
              "        const element = document.querySelector('#df-40ca4bda-913d-4ea7-9981-a78a3c95917c');\n",
              "        const dataTable =\n",
              "          await google.colab.kernel.invokeFunction('convertToInteractive',\n",
              "                                                    [key], {});\n",
              "        if (!dataTable) return;\n",
              "\n",
              "        const docLinkHtml = 'Like what you see? Visit the ' +\n",
              "          '<a target=\"_blank\" href=https://colab.research.google.com/notebooks/data_table.ipynb>data table notebook</a>'\n",
              "          + ' to learn more about interactive tables.';\n",
              "        element.innerHTML = '';\n",
              "        dataTable['output_type'] = 'display_data';\n",
              "        await google.colab.output.renderOutput(dataTable, element);\n",
              "        const docLink = document.createElement('div');\n",
              "        docLink.innerHTML = docLinkHtml;\n",
              "        element.appendChild(docLink);\n",
              "      }\n",
              "    </script>\n",
              "  </div>\n",
              "\n",
              "\n",
              "<div id=\"df-cb7d1fbf-1346-4283-96e4-aff4f2d7d229\">\n",
              "  <button class=\"colab-df-quickchart\" onclick=\"quickchart('df-cb7d1fbf-1346-4283-96e4-aff4f2d7d229')\"\n",
              "            title=\"Suggest charts\"\n",
              "            style=\"display:none;\">\n",
              "\n",
              "<svg xmlns=\"http://www.w3.org/2000/svg\" height=\"24px\"viewBox=\"0 0 24 24\"\n",
              "     width=\"24px\">\n",
              "    <g>\n",
              "        <path d=\"M19 3H5c-1.1 0-2 .9-2 2v14c0 1.1.9 2 2 2h14c1.1 0 2-.9 2-2V5c0-1.1-.9-2-2-2zM9 17H7v-7h2v7zm4 0h-2V7h2v10zm4 0h-2v-4h2v4z\"/>\n",
              "    </g>\n",
              "</svg>\n",
              "  </button>\n",
              "\n",
              "<style>\n",
              "  .colab-df-quickchart {\n",
              "      --bg-color: #E8F0FE;\n",
              "      --fill-color: #1967D2;\n",
              "      --hover-bg-color: #E2EBFA;\n",
              "      --hover-fill-color: #174EA6;\n",
              "      --disabled-fill-color: #AAA;\n",
              "      --disabled-bg-color: #DDD;\n",
              "  }\n",
              "\n",
              "  [theme=dark] .colab-df-quickchart {\n",
              "      --bg-color: #3B4455;\n",
              "      --fill-color: #D2E3FC;\n",
              "      --hover-bg-color: #434B5C;\n",
              "      --hover-fill-color: #FFFFFF;\n",
              "      --disabled-bg-color: #3B4455;\n",
              "      --disabled-fill-color: #666;\n",
              "  }\n",
              "\n",
              "  .colab-df-quickchart {\n",
              "    background-color: var(--bg-color);\n",
              "    border: none;\n",
              "    border-radius: 50%;\n",
              "    cursor: pointer;\n",
              "    display: none;\n",
              "    fill: var(--fill-color);\n",
              "    height: 32px;\n",
              "    padding: 0;\n",
              "    width: 32px;\n",
              "  }\n",
              "\n",
              "  .colab-df-quickchart:hover {\n",
              "    background-color: var(--hover-bg-color);\n",
              "    box-shadow: 0 1px 2px rgba(60, 64, 67, 0.3), 0 1px 3px 1px rgba(60, 64, 67, 0.15);\n",
              "    fill: var(--button-hover-fill-color);\n",
              "  }\n",
              "\n",
              "  .colab-df-quickchart-complete:disabled,\n",
              "  .colab-df-quickchart-complete:disabled:hover {\n",
              "    background-color: var(--disabled-bg-color);\n",
              "    fill: var(--disabled-fill-color);\n",
              "    box-shadow: none;\n",
              "  }\n",
              "\n",
              "  .colab-df-spinner {\n",
              "    border: 2px solid var(--fill-color);\n",
              "    border-color: transparent;\n",
              "    border-bottom-color: var(--fill-color);\n",
              "    animation:\n",
              "      spin 1s steps(1) infinite;\n",
              "  }\n",
              "\n",
              "  @keyframes spin {\n",
              "    0% {\n",
              "      border-color: transparent;\n",
              "      border-bottom-color: var(--fill-color);\n",
              "      border-left-color: var(--fill-color);\n",
              "    }\n",
              "    20% {\n",
              "      border-color: transparent;\n",
              "      border-left-color: var(--fill-color);\n",
              "      border-top-color: var(--fill-color);\n",
              "    }\n",
              "    30% {\n",
              "      border-color: transparent;\n",
              "      border-left-color: var(--fill-color);\n",
              "      border-top-color: var(--fill-color);\n",
              "      border-right-color: var(--fill-color);\n",
              "    }\n",
              "    40% {\n",
              "      border-color: transparent;\n",
              "      border-right-color: var(--fill-color);\n",
              "      border-top-color: var(--fill-color);\n",
              "    }\n",
              "    60% {\n",
              "      border-color: transparent;\n",
              "      border-right-color: var(--fill-color);\n",
              "    }\n",
              "    80% {\n",
              "      border-color: transparent;\n",
              "      border-right-color: var(--fill-color);\n",
              "      border-bottom-color: var(--fill-color);\n",
              "    }\n",
              "    90% {\n",
              "      border-color: transparent;\n",
              "      border-bottom-color: var(--fill-color);\n",
              "    }\n",
              "  }\n",
              "</style>\n",
              "\n",
              "  <script>\n",
              "    async function quickchart(key) {\n",
              "      const quickchartButtonEl =\n",
              "        document.querySelector('#' + key + ' button');\n",
              "      quickchartButtonEl.disabled = true;  // To prevent multiple clicks.\n",
              "      quickchartButtonEl.classList.add('colab-df-spinner');\n",
              "      try {\n",
              "        const charts = await google.colab.kernel.invokeFunction(\n",
              "            'suggestCharts', [key], {});\n",
              "      } catch (error) {\n",
              "        console.error('Error during call to suggestCharts:', error);\n",
              "      }\n",
              "      quickchartButtonEl.classList.remove('colab-df-spinner');\n",
              "      quickchartButtonEl.classList.add('colab-df-quickchart-complete');\n",
              "    }\n",
              "    (() => {\n",
              "      let quickchartButtonEl =\n",
              "        document.querySelector('#df-cb7d1fbf-1346-4283-96e4-aff4f2d7d229 button');\n",
              "      quickchartButtonEl.style.display =\n",
              "        google.colab.kernel.accessAllowed ? 'block' : 'none';\n",
              "    })();\n",
              "  </script>\n",
              "</div>\n",
              "\n",
              "    </div>\n",
              "  </div>\n"
            ]
          },
          "metadata": {},
          "execution_count": 28
        }
      ]
    },
    {
      "cell_type": "code",
      "source": [
        "price_df = pd.DataFrame(data['Price'])\n",
        "print(price_df)"
      ],
      "metadata": {
        "colab": {
          "base_uri": "https://localhost:8080/"
        },
        "id": "Azs8nggtLA-8",
        "outputId": "941fcdea-d417-4c7b-ef31-6680aa09443e"
      },
      "execution_count": null,
      "outputs": [
        {
          "output_type": "stream",
          "name": "stdout",
          "text": [
            "          Price\n",
            "0      12900000\n",
            "1      16250000\n",
            "2      17000000\n",
            "3      13000000\n",
            "4      33500000\n",
            "...         ...\n",
            "49995   6995000\n",
            "49996   5590000\n",
            "49997   6885000\n",
            "49998  42500000\n",
            "49999  18100000\n",
            "\n",
            "[50000 rows x 1 columns]\n"
          ]
        }
      ]
    },
    {
      "cell_type": "code",
      "source": [
        "x_train,x_test,y_train,y_test=train_test_split(x, y,test_size=0.15)"
      ],
      "metadata": {
        "id": "K_GlATHuKZdv"
      },
      "execution_count": null,
      "outputs": []
    },
    {
      "cell_type": "code",
      "source": [
        "print(\"x_train shape:\", x_train.shape)\n",
        "print(\"y_train shape:\", y_train.shape)\n",
        "print(\"x_test shape:\", x_test.shape)\n",
        "print(\"y_test shape:\", y_test.shape)\n",
        "print(\"x_train_year shape:\", x_train[2].shape)"
      ],
      "metadata": {
        "colab": {
          "base_uri": "https://localhost:8080/"
        },
        "id": "f8rqlQYxq6BV",
        "outputId": "ddf84b99-fb7d-417e-84e7-44576c0e1424"
      },
      "execution_count": null,
      "outputs": [
        {
          "output_type": "stream",
          "name": "stdout",
          "text": [
            "x_train shape: (42500, 716)\n",
            "y_train shape: (42500,)\n",
            "x_test shape: (7500, 716)\n",
            "y_test shape: (7500,)\n",
            "x_train_year shape: (1, 716)\n"
          ]
        }
      ]
    },
    {
      "cell_type": "code",
      "source": [
        "# Convert y_train Series to a NumPy array and reshape it\n",
        "y_train_reshaped = y_train.values.reshape(-1, 1)\n",
        "# Convert y_test Series to a NumPy array and reshape it\n",
        "y_test_reshaped = y_test.values.reshape(-1, 1)"
      ],
      "metadata": {
        "id": "PTBls12T3B_u"
      },
      "execution_count": null,
      "outputs": []
    },
    {
      "cell_type": "code",
      "source": [
        "print(y_train)\n",
        "type(y_train)"
      ],
      "metadata": {
        "colab": {
          "base_uri": "https://localhost:8080/"
        },
        "id": "mSf5n2GKksqS",
        "outputId": "de7e35ba-ac90-455b-9cba-384c86d9872b"
      },
      "execution_count": null,
      "outputs": [
        {
          "output_type": "stream",
          "name": "stdout",
          "text": [
            "29396     2450000\n",
            "12060      900000\n",
            "26412      410000\n",
            "18901    12400000\n",
            "30868     5575000\n",
            "           ...   \n",
            "10495     4450000\n",
            "503      70500000\n",
            "30416     7590000\n",
            "15257    23850000\n",
            "27143     2850000\n",
            "Name: Price, Length: 42500, dtype: int64\n"
          ]
        },
        {
          "output_type": "execute_result",
          "data": {
            "text/plain": [
              "pandas.core.series.Series"
            ]
          },
          "metadata": {},
          "execution_count": 33
        }
      ]
    },
    {
      "cell_type": "code",
      "source": [
        "x_train.shape,x_test.shape"
      ],
      "metadata": {
        "colab": {
          "base_uri": "https://localhost:8080/"
        },
        "id": "jD4CV8RAjVof",
        "outputId": "16649242-c84f-448f-e4c7-c6bbfaecd271"
      },
      "execution_count": null,
      "outputs": [
        {
          "output_type": "execute_result",
          "data": {
            "text/plain": [
              "((42500, 716), (7500, 716))"
            ]
          },
          "metadata": {},
          "execution_count": 34
        }
      ]
    },
    {
      "cell_type": "code",
      "source": [
        "x_train.shape[1]"
      ],
      "metadata": {
        "colab": {
          "base_uri": "https://localhost:8080/"
        },
        "id": "WXWHou4AHuR3",
        "outputId": "6fb5e766-4da6-43c3-d216-66f1152de392"
      },
      "execution_count": null,
      "outputs": [
        {
          "output_type": "execute_result",
          "data": {
            "text/plain": [
              "716"
            ]
          },
          "metadata": {},
          "execution_count": 35
        }
      ]
    },
    {
      "cell_type": "markdown",
      "source": [
        "# Model building"
      ],
      "metadata": {
        "id": "YbSJbqsTiVPl"
      }
    },
    {
      "cell_type": "code",
      "source": [
        "model = tf.keras.Sequential()\n",
        "model.add(tf.keras.layers.Dense(512, activation='relu', input_shape=(x_train.shape[1],)))\n",
        "model.add(tf.keras.layers.Dense(256, activation='relu'))\n",
        "model.add(tf.keras.layers.Dense(200, activation='relu'))\n",
        "model.add(tf.keras.layers.Dense(150, activation='relu'))\n",
        "model.add(tf.keras.layers.Dense(96, activation='relu'))\n",
        "model.add(tf.keras.layers.Dense(64, activation='relu'))\n",
        "model.add(tf.keras.layers.Dense(32, activation='relu'))\n",
        "model.add(tf.keras.layers.Dense(1, activation='relu'))\n",
        "\n",
        "model.compile(optimizer=tf.keras.optimizers.Adam(lr=0.05), loss='mean_absolute_error', metrics=['mse'])\n",
        "\n",
        "x_train_dense = x_train.toarray()\n",
        "history = model.fit(x_train_dense, y_train, epochs=10, batch_size=32)\n",
        "\n",
        "# Plot the error variation with respect to epochs\n",
        "import matplotlib.pyplot as plt\n",
        "\n",
        "plt.plot(history.history['loss'], 'b', label='Training loss')\n",
        "plt.title('Training Loss')\n",
        "plt.xlabel('Epochs')\n",
        "plt.ylabel('Loss')\n",
        "plt.legend()\n",
        "plt.show()\n"
      ],
      "metadata": {
        "colab": {
          "base_uri": "https://localhost:8080/",
          "height": 837
        },
        "id": "6C-D--VH_WBd",
        "outputId": "271df2cc-9795-492b-c00f-bef0b55b3abd"
      },
      "execution_count": null,
      "outputs": [
        {
          "output_type": "stream",
          "name": "stderr",
          "text": [
            "WARNING:absl:`lr` is deprecated in Keras optimizer, please use `learning_rate` or use the legacy optimizer, e.g.,tf.keras.optimizers.legacy.Adam.\n"
          ]
        },
        {
          "output_type": "stream",
          "name": "stdout",
          "text": [
            "Epoch 1/10\n",
            "1329/1329 [==============================] - 20s 13ms/step - loss: 2657542.7500 - mse: 40946657918976.0000\n",
            "Epoch 2/10\n",
            "1329/1329 [==============================] - 16s 12ms/step - loss: 1630365.6250 - mse: 14558172282880.0000\n",
            "Epoch 3/10\n",
            "1329/1329 [==============================] - 18s 14ms/step - loss: 1563618.5000 - mse: 13438401118208.0000\n",
            "Epoch 4/10\n",
            "1329/1329 [==============================] - 17s 12ms/step - loss: 1537594.0000 - mse: 12862691999744.0000\n",
            "Epoch 5/10\n",
            "1329/1329 [==============================] - 18s 13ms/step - loss: 1505451.5000 - mse: 12465766137856.0000\n",
            "Epoch 6/10\n",
            "1329/1329 [==============================] - 17s 13ms/step - loss: 1497744.7500 - mse: 12317829890048.0000\n",
            "Epoch 7/10\n",
            "1329/1329 [==============================] - 18s 14ms/step - loss: 1476177.6250 - mse: 12046758313984.0000\n",
            "Epoch 8/10\n",
            "1329/1329 [==============================] - 17s 13ms/step - loss: 1473680.8750 - mse: 11990781132800.0000\n",
            "Epoch 9/10\n",
            "1329/1329 [==============================] - 17s 13ms/step - loss: 1463530.2500 - mse: 11829158871040.0000\n",
            "Epoch 10/10\n",
            "1329/1329 [==============================] - 17s 12ms/step - loss: 1448620.8750 - mse: 11652418240512.0000\n"
          ]
        },
        {
          "output_type": "display_data",
          "data": {
            "text/plain": [
              "<Figure size 640x480 with 1 Axes>"
            ],
            "image/png": "[encoded data removed]"
          },
          "metadata": {}
        }
      ]
    },
    {
      "cell_type": "code",
      "source": [
        "model.summary()"
      ],
      "metadata": {
        "colab": {
          "base_uri": "https://localhost:8080/"
        },
        "id": "ql7ru-6Hayg0",
        "outputId": "d2e2857c-944d-4c21-ce0d-885e1ebd4830"
      },
      "execution_count": null,
      "outputs": [
        {
          "output_type": "stream",
          "name": "stdout",
          "text": [
            "Model: \"sequential\"\n",
            "_________________________________________________________________\n",
            " Layer (type)                Output Shape              Param #   \n",
            "=================================================================\n",
            " dense (Dense)               (None, 512)               367104    \n",
            "                                                                 \n",
            " dense_1 (Dense)             (None, 256)               131328    \n",
            "                                                                 \n",
            " dense_2 (Dense)             (None, 200)               51400     \n",
            "                                                                 \n",
            " dense_3 (Dense)             (None, 150)               30150     \n",
            "                                                                 \n",
            " dense_4 (Dense)             (None, 96)                14496     \n",
            "                                                                 \n",
            " dense_5 (Dense)             (None, 64)                6208      \n",
            "                                                                 \n",
            " dense_6 (Dense)             (None, 32)                2080      \n",
            "                                                                 \n",
            " dense_7 (Dense)             (None, 1)                 33        \n",
            "                                                                 \n",
            "=================================================================\n",
            "Total params: 602799 (2.30 MB)\n",
            "Trainable params: 602799 (2.30 MB)\n",
            "Non-trainable params: 0 (0.00 Byte)\n",
            "_________________________________________________________________\n"
          ]
        }
      ]
    },
    {
      "cell_type": "code",
      "source": [
        "from sklearn.metrics import r2_score\n",
        "\n",
        "# Assuming you have already trained and obtained predictions from your neural network model\n",
        "predicted_values1 = model.predict(x_train)\n",
        "predicted_values2 = model.predict(x_test)\n",
        "\n",
        "# Calculate R-squared\n",
        "r2_train = r2_score(y_train, predicted_values1)\n",
        "r2_test = r2_score(y_test, predicted_values2)\n",
        "\n",
        "# Print the R-squared score\n",
        "print(\"train Score:\", r2_train*100)\n",
        "print(\"test Score:\", r2_test*100)"
      ],
      "metadata": {
        "colab": {
          "base_uri": "https://localhost:8080/"
        },
        "id": "sR0gIXA7uidj",
        "outputId": "49e14880-9e51-49f0-982b-a8326d167c5b"
      },
      "execution_count": null,
      "outputs": [
        {
          "output_type": "stream",
          "name": "stdout",
          "text": [
            "1329/1329 [==============================] - 5s 4ms/step\n",
            "235/235 [==============================] - 1s 3ms/step\n",
            "train Score: 90.5501288849235\n",
            "test Score: 89.31724910874681\n"
          ]
        }
      ]
    },
    {
      "cell_type": "code",
      "source": [
        "# Get weights and biases for all layers in the model\n",
        "all_weights_and_biases = [layer.get_weights() for layer in model.layers]\n",
        "\n",
        "# Iterate through each layer's weights and biases\n",
        "for layer_num, (weights, biases) in enumerate(all_weights_and_biases):\n",
        "    sublist1_length = len(weights)\n",
        "    sublist2_length = len(biases)\n",
        "\n",
        "    print(f\"Layer {layer_num + 1} - Sublist 1 Length: {sublist1_length}, Sublist 2 Length: {sublist2_length}\")\n",
        "    print(\"Sublist 1 (weights):\")\n",
        "    print(weights)\n",
        "    print(\"Sublist 2 (biases):\")\n",
        "    print(biases)\n",
        "    print(\"=\" * 80)"
      ],
      "metadata": {
        "colab": {
          "base_uri": "https://localhost:8080/"
        },
        "id": "GLUUYMDW_qBr",
        "outputId": "fc7ad94a-6afa-45aa-ce32-c846bace14ee"
      },
      "execution_count": null,
      "outputs": [
        {
          "output_type": "stream",
          "name": "stdout",
          "text": [
            "Layer 1 - Sublist 1 Length: 716, Sublist 2 Length: 512\n",
            "Sublist 1 (weights):\n",
            "[[ 0.12008624 -0.01730638  0.07657811 ...  0.02977279 -0.04392481\n",
            "  -0.01202162]\n",
            " [ 0.02090544  0.10768955 -0.01715016 ...  0.0735102   0.09979893\n",
            "  -0.0504818 ]\n",
            " [ 0.09094764  0.07650696  0.06566974 ...  0.14193264  0.09302163\n",
            "   0.19254   ]\n",
            " ...\n",
            " [-0.1219835  -0.24047802 -0.00304152 ... -0.02490956 -0.03034797\n",
            "  -0.00942583]\n",
            " [ 0.1400862   0.10054217 -0.03593579 ... -0.05102877 -0.20043746\n",
            "  -0.17785236]\n",
            " [ 0.06157759  0.02744227  0.0109843  ... -0.21470813 -0.14052576\n",
            "  -0.11833952]]\n",
            "Sublist 2 (biases):\n",
            "[ 2.71194032e-03 -8.53787293e-04 -3.27883312e-03 -1.46029726e-01\n",
            "  2.76045930e-02  1.58915892e-02 -6.65268525e-02 -8.81384835e-02\n",
            "  7.94987008e-03 -8.57875720e-02  2.07572691e-02 -1.33661851e-01\n",
            " -1.76438347e-01 -1.21545389e-01 -5.89630976e-02 -1.17862172e-01\n",
            " -5.49572073e-02  2.29839943e-02 -1.29229888e-01  7.01006874e-02\n",
            " -8.82962495e-02 -4.91704866e-02 -1.13873333e-01  5.67273572e-02\n",
            " -1.47388697e-01 -4.12036665e-02  6.54127821e-02  1.57891326e-02\n",
            " -5.03391549e-02 -1.68283507e-02 -1.05712679e-03  7.51845986e-02\n",
            " -1.25326551e-02 -2.15636194e-02  2.44178018e-03  1.63223632e-02\n",
            " -1.73807684e-02 -1.03981726e-01  5.99006899e-02 -5.44563904e-02\n",
            "  4.59894426e-02 -1.26578450e-01 -4.78848219e-02 -3.87851638e-03\n",
            "  3.01835239e-02 -1.30917102e-01 -1.44861668e-01 -1.22444578e-01\n",
            " -1.46055417e-02  4.68135886e-02  3.03050783e-03 -8.67726505e-02\n",
            " -3.41302417e-02  5.00063263e-02 -4.51724567e-02 -8.51314440e-02\n",
            "  7.79057993e-03 -6.84610829e-02 -5.00681140e-02 -1.03209503e-01\n",
            " -1.45501256e-01 -1.35992393e-01  6.02028146e-03 -1.07839286e-01\n",
            " -7.69726411e-02 -6.59058988e-02 -5.09502739e-02  6.39151782e-02\n",
            " -1.08791895e-01  2.78920047e-02 -9.65389982e-02 -2.63974406e-02\n",
            " -6.95634037e-02 -1.10952415e-01 -6.09985627e-02 -7.84228742e-02\n",
            " -1.01707175e-01 -8.36192742e-02 -5.82799315e-02 -4.13399041e-02\n",
            " -1.22954361e-01 -5.80039732e-02 -4.60344367e-03  6.09641941e-03\n",
            " -4.32774574e-02 -1.00319453e-01 -1.08980507e-01 -6.65206313e-02\n",
            " -4.64564078e-02 -1.20739348e-01 -8.67331028e-02 -4.50702757e-02\n",
            " -1.43357273e-02 -5.58030829e-02 -1.11796267e-01 -1.49078071e-01\n",
            "  1.31707247e-02  7.08674220e-03  2.48907302e-02 -6.20984323e-02\n",
            " -6.81817904e-02 -7.63893947e-02  2.23503169e-03 -1.19483560e-01\n",
            " -1.46232367e-01 -1.45392050e-03 -1.15784101e-01 -3.35331596e-02\n",
            "  4.27351594e-02 -5.57099283e-02 -1.05811082e-01 -1.42365038e-01\n",
            " -7.45462254e-02 -1.39782697e-01 -1.49972383e-02 -1.01827942e-01\n",
            " -8.28918442e-02 -7.36417100e-02 -6.51129410e-02 -6.31189123e-02\n",
            "  1.17271990e-02 -6.33476451e-02 -1.33185357e-01 -9.95220765e-02\n",
            " -9.85311493e-02 -9.45294946e-02 -1.11484349e-01  1.06118359e-02\n",
            " -5.08941039e-02 -6.95673376e-02 -6.13306575e-02 -2.01212000e-02\n",
            " -6.09596670e-02 -2.87914947e-02 -1.10023007e-01 -1.35762051e-01\n",
            " -2.58451290e-02 -4.59525846e-02 -5.53133525e-02 -2.18486339e-02\n",
            "  3.00431345e-02  2.75017004e-02 -6.92653507e-02 -6.59547597e-02\n",
            " -5.84216341e-02  1.69854499e-02 -1.73639469e-02  3.24104615e-02\n",
            " -5.47406822e-02 -1.58089817e-01 -1.29158616e-01 -1.23548895e-01\n",
            " -9.44517031e-02 -3.01562324e-02 -6.45027161e-02  4.53892834e-02\n",
            " -5.34494333e-02 -5.51687088e-03 -4.00945954e-02 -1.36318326e-01\n",
            " -1.27203062e-01 -1.06653214e-01 -8.46057460e-02 -1.32960916e-01\n",
            " -1.07140932e-02 -1.11413471e-01 -1.21210910e-01 -1.99031919e-01\n",
            " -6.31006286e-02 -9.84607562e-02 -4.94310893e-02 -3.99373546e-02\n",
            " -6.42413720e-02 -4.24686819e-02 -1.30431846e-01 -1.67354926e-01\n",
            " -1.05302064e-02 -8.95765200e-02 -3.82354073e-02  4.31656130e-02\n",
            " -1.41061693e-01  7.16062114e-02 -1.09531462e-01 -8.56632590e-02\n",
            " -5.01423739e-02 -4.44455296e-02 -9.09394696e-02  1.04076015e-02\n",
            "  2.95317322e-02 -1.18274182e-01 -1.06751606e-01 -4.05950844e-02\n",
            " -9.42001771e-03 -1.08064540e-01 -3.39808352e-02 -2.60751620e-02\n",
            "  4.11680192e-02  4.13642190e-02 -8.88175815e-02 -8.13982338e-02\n",
            " -1.45924687e-01 -5.50654307e-02 -1.59649223e-01 -8.15761182e-03\n",
            "  4.73106243e-02 -5.52995093e-02  1.98957464e-03 -4.32271883e-02\n",
            " -9.98926237e-02  3.22632752e-02 -3.84611934e-02 -1.18886612e-01\n",
            " -2.75929961e-02 -9.60956365e-02 -2.09817812e-01 -9.82551575e-02\n",
            " -3.82228419e-02 -9.16643739e-02 -9.48564932e-02 -2.36445460e-02\n",
            " -9.38951820e-02 -6.60702363e-02 -1.09900281e-01 -2.79289819e-02\n",
            " -1.16155833e-01 -6.87780157e-02 -1.18207812e-01 -1.25992045e-01\n",
            " -5.82121648e-02 -1.04527406e-01 -5.68537302e-02 -1.41891047e-01\n",
            " -5.61833903e-02  2.68348400e-02 -1.43184558e-01 -1.61157802e-01\n",
            " -1.03980608e-01 -1.38147697e-01 -4.17991765e-02  6.60567312e-03\n",
            " -1.68884858e-01  3.27934995e-02  1.82853676e-02 -1.17630556e-01\n",
            " -9.80412215e-02 -3.25634144e-02 -1.06667019e-01 -5.20501807e-02\n",
            " -3.76376212e-02  8.14579949e-02 -6.31367266e-02 -3.12766172e-02\n",
            " -7.81085640e-02 -1.16348185e-01 -3.50272991e-02 -1.00903891e-01\n",
            " -7.87157714e-02 -1.61697984e-01 -1.04375277e-02 -4.66561466e-02\n",
            " -4.80216891e-02 -5.17972521e-02 -1.09821577e-02  4.69184369e-02\n",
            " -1.19825549e-01 -7.89496601e-02 -8.38415921e-02 -1.35355696e-01\n",
            " -1.50385603e-01  1.41359027e-03 -1.25700355e-01 -2.84126569e-02\n",
            " -7.49289170e-02  1.43860467e-02 -1.05618700e-01 -1.19525017e-02\n",
            " -5.35049662e-03 -6.28330037e-02 -5.27301617e-02  9.28324834e-03\n",
            " -8.92741382e-02  1.59250852e-02 -1.68717261e-02 -1.11175172e-01\n",
            " -1.04279950e-01  5.17379344e-02 -1.20908558e-01 -1.00449950e-01\n",
            "  4.09713089e-02 -8.21552351e-02 -3.84587608e-02  5.18741794e-02\n",
            " -4.53177951e-02 -2.30851620e-02 -2.43059732e-02  4.23545055e-02\n",
            " -1.18325844e-01 -1.71156436e-01 -2.84928922e-02 -1.01138599e-01\n",
            " -5.95015474e-02 -4.76594418e-02 -3.74898389e-02 -3.97258811e-02\n",
            " -8.77071470e-02  4.82568331e-02 -1.39780954e-01  6.24617524e-02\n",
            " -1.34297594e-01 -1.14071161e-01 -4.27394807e-02 -8.59309658e-02\n",
            " -1.48518428e-01  1.03617109e-01 -8.35653394e-02 -1.70040168e-02\n",
            "  1.29800690e-02 -9.39633325e-02 -1.88145619e-02 -1.22588910e-02\n",
            " -1.15938663e-01 -1.76369637e-01  1.00395851e-01  3.36356498e-02\n",
            " -3.53116244e-02 -9.44124833e-02  2.48618908e-02 -3.05228084e-02\n",
            " -1.57568961e-01 -4.88065742e-02 -1.48708522e-02 -5.78971654e-02\n",
            " -9.51211154e-02 -6.73772842e-02 -5.67087941e-02 -1.13835767e-01\n",
            "  7.94759691e-02 -8.27536359e-02 -7.18448162e-02 -4.50365692e-02\n",
            "  2.26493031e-02 -1.18694216e-01  3.33669223e-02  3.67919467e-02\n",
            "  2.31566019e-02  2.21271049e-02 -9.34555084e-02 -1.27136763e-02\n",
            " -1.22780472e-01 -1.61138341e-01  7.12983906e-02 -9.24662128e-02\n",
            " -1.63691759e-01 -6.98727071e-02 -4.15462367e-02 -8.96972567e-02\n",
            " -5.88659011e-02 -7.93551952e-02 -1.10814553e-02  5.61761810e-03\n",
            "  1.32815177e-02  4.75624837e-02 -3.50552574e-02 -2.46496573e-02\n",
            " -7.51822665e-02 -3.31171080e-02 -3.49787176e-02 -4.32884181e-03\n",
            " -6.90707862e-02 -6.36873115e-03 -5.75231500e-02 -4.54425812e-02\n",
            "  2.58041453e-03 -9.29704159e-02  5.99185266e-02  4.07900177e-02\n",
            " -3.73360775e-02  5.81373833e-02 -2.35480745e-03  2.56876461e-02\n",
            " -1.60519063e-01 -8.41398537e-02  6.35176292e-03 -5.56999110e-02\n",
            " -1.62404761e-01  4.13131900e-02  7.12577207e-03 -5.12657240e-02\n",
            " -7.12252855e-02 -5.92433773e-02 -2.79580001e-02 -2.75044683e-02\n",
            "  7.45726563e-03 -2.47017108e-02 -7.45531768e-02 -4.80134375e-02\n",
            " -9.30674598e-02 -4.32601124e-02 -2.00106353e-02 -1.67503819e-01\n",
            " -3.59627381e-02 -1.57643005e-01 -1.01770341e-01 -2.44695749e-02\n",
            " -6.84941113e-02 -1.88347906e-01 -7.12859407e-02 -1.01472721e-01\n",
            " -1.23275585e-01 -9.98718143e-02  1.22615304e-02  3.85902785e-02\n",
            " -9.15555656e-02 -1.51790977e-02 -6.10262454e-02 -4.68858890e-02\n",
            " -5.29830977e-02 -2.71211844e-02  1.07057653e-02 -8.17796066e-02\n",
            " -6.76971748e-02 -2.14835219e-02 -2.82123499e-02 -1.71579681e-02\n",
            "  5.59898950e-02 -8.21489394e-02 -1.50401175e-01  2.78126393e-02\n",
            " -5.70446774e-02 -1.92492399e-02  4.67111394e-02 -2.22645495e-02\n",
            " -1.04601376e-01 -2.36713924e-02 -1.29829705e-01 -3.74403968e-02\n",
            " -1.01816051e-01 -2.94019375e-02 -1.04188725e-01 -8.21263641e-02\n",
            " -1.68411843e-02  3.36747505e-02 -8.79704431e-02 -1.77930951e-01\n",
            " -1.80292770e-01 -5.21574430e-02 -7.76268961e-03  6.38207071e-04\n",
            " -1.08359851e-01  7.30984902e-06 -6.13096403e-03  4.04672660e-02\n",
            " -1.16426185e-01 -9.64852944e-02 -5.48760965e-02 -4.82134745e-02\n",
            " -6.06994927e-02 -1.23674631e-01 -1.54279172e-01 -1.61733463e-01\n",
            " -1.16280966e-01 -3.03771086e-02 -1.20258607e-01 -9.16899592e-02\n",
            " -2.99590379e-02 -9.93529111e-02 -3.21389809e-02  5.96879162e-02\n",
            "  5.88283800e-02 -5.66540845e-02 -3.21412235e-02 -7.99941346e-02\n",
            " -5.08407839e-02 -1.01940706e-01 -1.10571511e-01 -1.98211987e-02\n",
            " -4.35701720e-02 -1.85793787e-02 -1.17594950e-01  8.98668636e-03\n",
            " -1.29949838e-01 -1.06381908e-01 -1.20816380e-01 -1.27369791e-01\n",
            " -6.30951300e-02 -4.63403910e-02 -5.19268513e-02 -8.14817287e-03\n",
            " -1.31628484e-01 -1.42149359e-01  3.35998945e-02 -1.49896368e-02\n",
            " -2.61540040e-02 -1.72454268e-01 -4.21709903e-02 -1.14823461e-01\n",
            " -1.26456186e-01 -1.15421675e-02  6.10847473e-02 -1.29684359e-01\n",
            " -1.69367492e-01 -8.86428577e-04 -8.71323235e-03 -2.80482601e-02\n",
            " -1.45771652e-01 -9.38286483e-02 -3.36469971e-02  6.47566393e-02\n",
            " -1.05680145e-01 -1.74588650e-01 -1.05317101e-01 -7.16178194e-02]\n",
            "================================================================================\n",
            "Layer 2 - Sublist 1 Length: 512, Sublist 2 Length: 256\n",
            "Sublist 1 (weights):\n",
            "[[-4.73108143e-02  3.91317010e-02  1.04685836e-01 ... -4.04637344e-02\n",
            "  -4.94910628e-02  3.74256521e-02]\n",
            " [ 5.17869517e-02  1.11126781e-01  1.45408332e-01 ... -2.64101487e-04\n",
            "   8.81796703e-02 -3.15660834e-02]\n",
            " [ 1.98841523e-02  4.54052649e-02  1.09623544e-01 ...  7.72184655e-02\n",
            "   9.11294669e-02  5.93641251e-02]\n",
            " ...\n",
            " [ 5.43102145e-01  5.51438153e-01  5.66776991e-01 ...  5.82533717e-01\n",
            "   4.73773748e-01  5.73766351e-01]\n",
            " [ 2.73824424e-01  2.48468176e-01  3.26594383e-01 ...  2.87953168e-01\n",
            "   3.27218741e-01  3.45991373e-01]\n",
            " [ 2.31838122e-01  1.99072465e-01  2.51935393e-01 ...  2.39982978e-01\n",
            "   2.80513078e-01  1.74021274e-01]]\n",
            "Sublist 2 (biases):\n",
            "[ 0.22021174  0.22797534  0.23016673  0.21514843  0.22723676 -0.04741323\n",
            "  0.2312452   0.20694864  0.20862527  0.21277979 -0.06173837  0.21872965\n",
            "  0.22699334  0.22433631  0.2265745   0.22785372  0.19795375  0.20761085\n",
            "  0.22634555  0.22673544  0.22273648  0.2168509  -0.03534939  0.22200955\n",
            "  0.22136338  0.2205863   0.22821829  0.22086908  0.22391543  0.23009044\n",
            "  0.22600867 -0.04335106  0.22666124  0.20642453  0.22615765 -0.02827717\n",
            "  0.2121064   0.22812362  0.22439209  0.22684772  0.22776148  0.22580577\n",
            "  0.21359026  0.22650416  0.22439894  0.22877514  0.2271893   0.22514676\n",
            "  0.21665844  0.19794182  0.22956924  0.22535962  0.22878882  0.22178645\n",
            "  0.21472108 -0.02241692  0.22977681  0.22810557  0.22434767  0.23094189\n",
            "  0.22601207  0.22289169  0.22952618  0.22875205  0.22573723 -0.06051743\n",
            " -0.05649942  0.22769679  0.2274585   0.22479317  0.32175386  0.22743994\n",
            "  0.21748285  0.22744781  0.22999953  0.22158404  0.22300608 -0.01377009\n",
            "  0.22088355  0.22427604  0.21211195  0.22964472  0.22627522  0.22406945\n",
            "  0.22803679  0.21819387  0.22773746  0.22598366  0.22893147  0.22852886\n",
            "  0.11893529  0.2154468   0.22321042  0.22799845  0.2377039   0.22917424\n",
            "  0.21252061  0.22725423 -0.04284778  0.22242934 -0.04375695  0.22754124\n",
            " -0.05310124 -0.05698626  0.22570616  0.22466497  0.22918946  0.07000261\n",
            "  0.22102147  0.22511144  0.22853296  0.23156732  0.2981163   0.20940793\n",
            "  0.22262245  0.2176997  -0.06479868 -0.03520985  0.21761294  0.21845812\n",
            "  0.227416   -0.03504092  0.22713363 -0.2737365   0.22574177  0.22088113\n",
            " -0.03282861  0.2250999   0.22567688  0.2177306  -0.03865965  0.22897843\n",
            " -0.04085742  0.22844988  0.22833826  0.23165254  0.212708    0.20075893\n",
            "  0.2194588  -0.03100872  0.2268462  -0.04066186  0.22823024 -0.02467093\n",
            "  0.22637779  0.22807087  0.22467212  0.2236204   0.22148478 -0.03299969\n",
            "  0.22872882  0.2083322  -0.07491509  0.22468588  0.22333014  0.22582844\n",
            " -0.05170278  0.22655395 -0.01603625  0.2272958   0.22771844  0.22835936\n",
            "  0.22771238  0.22430117  0.22676097  0.22633739  0.22113694  0.22814152\n",
            "  0.22785337  0.22807421  0.06998158 -0.06337485  0.0340238   0.22819825\n",
            "  0.21689288  0.22248235  0.22254983  0.22240198  0.2026715   0.22313201\n",
            " -0.04273542  0.2228972   0.29023308  0.22458573  0.22893345 -0.03702948\n",
            "  0.22291549  0.22548513  0.02558316  0.22548638  0.22710393  0.27339748\n",
            "  0.2078694   0.2290593   0.20328137  0.19581772  0.22204708  0.22911142\n",
            "  0.2315325   0.20209745  0.22858235  0.21385072  0.22747704  0.22979487\n",
            "  0.22906798 -0.06369001  0.22639795 -0.03763272  0.22766504  0.22805291\n",
            "  0.22849631  0.22751278  0.22511496 -0.02878476  0.21148553 -0.04528288\n",
            " -0.04597097  0.22960156  0.21489468  0.20968318 -0.03574131  0.22406895\n",
            "  0.21876301  0.22758245  0.22546919 -0.03731663  0.22224383  0.22443615\n",
            "  0.22733274 -0.02566596 -0.04046756  0.22692335  0.22238205  0.21684913\n",
            "  0.10359056 -0.20538706  0.22637907  0.22542031  0.22288643  0.27202624\n",
            " -0.01587862 -0.05534118  0.21459694  0.22900748  0.22807099  0.21753612\n",
            "  0.22799684  0.22351329  0.1716446   0.22271079  0.22707978  0.22146696\n",
            "  0.22760408  0.2072248   0.21763352  0.22107169]\n",
            "================================================================================\n",
            "Layer 3 - Sublist 1 Length: 256, Sublist 2 Length: 200\n",
            "Sublist 1 (weights):\n",
            "[[ 0.07721057 -0.10181461  0.14450867 ... -0.09826742  0.0898702\n",
            "   0.21838099]\n",
            " [ 0.06063202  0.05003156  0.2266417  ...  0.01714369  0.17383909\n",
            "   0.23473375]\n",
            " [ 0.0898529  -0.11003576  0.16755563 ... -0.06884822  0.18150404\n",
            "   0.24382018]\n",
            " ...\n",
            " [ 0.15552482 -0.01562354  0.22079849 ... -0.01936191  0.193597\n",
            "   0.18064345]\n",
            " [ 0.15747838 -0.0232715   0.06277027 ... -0.10633705  0.24013337\n",
            "   0.19531377]\n",
            " [ 0.16387281 -0.00756693  0.13877724 ...  0.05545727  0.25900054\n",
            "   0.0303418 ]]\n",
            "Sublist 2 (biases):\n",
            "[ 0.26685762 -0.01096301  0.2535608   0.2634479  -0.01405206  0.0006821\n",
            "  0.26225346  0.27101052  0.24910386  0.2637141   0.          0.26212916\n",
            "  0.26940688  0.          0.26668194 -0.02157064  0.26025337  0.23654617\n",
            "  0.2684019  -0.01555582 -0.01073584 -0.00537556  0.26520434  0.26412123\n",
            "  0.2693769   0.26637617  0.24775502  0.2646847   0.25490254 -0.01075511\n",
            "  0.252087   -0.02683783  0.25662324 -0.01032681 -0.00433384 -0.00562814\n",
            " -0.00376891  0.2690719  -0.00932344  0.25798127  0.2551605  -0.01200899\n",
            "  0.2630473   0.24999787 -0.00934166 -0.00980689 -0.01439266  0.25449347\n",
            " -0.00219863  0.26690212  0.24118422 -0.01167199 -0.00740289 -0.00734656\n",
            "  0.2670518   0.25705206 -0.0044931  -0.01258953 -0.01038816  0.25699192\n",
            " -0.00274903 -0.00378777  0.267259    0.25629738  0.00474132  0.\n",
            "  0.2662523   0.2648976   0.24151295  0.25766528  0.26484495  0.25962755\n",
            "  0.25452244 -0.01020208 -0.00903663  0.25405514  0.2664417   0.2365859\n",
            "  0.24464919  0.25743955  0.          0.27276567  0.27121297  0.2689849\n",
            "  0.25407365  0.26781017  0.26326212 -0.00665245 -0.01340265  0.26289037\n",
            "  0.2718027   0.26681155  0.27074414 -0.00720057  0.25811964  0.2655672\n",
            "  0.25883096 -0.00683788 -0.01266558  0.26242462  0.2672742   0.26488534\n",
            " -0.01097705 -0.01205163  0.26623395  0.26201758  0.26355454  0.2660299\n",
            "  0.2619233   0.2709959   0.2489545   0.2653539  -0.01004647  0.26681468\n",
            "  0.25526702  0.23967142  0.26267588 -0.01327791  0.2548112   0.26870924\n",
            " -0.03179738  0.26556987  0.27072832  0.24765727 -0.02114382 -0.00701134\n",
            " -0.01338521 -0.01126241  0.27024046 -0.01209778  0.27041903  0.26769713\n",
            "  0.26823732  0.26532316  0.26603207  0.2645296  -0.01116382  0.2679727\n",
            "  0.24646235  0.2591924  -0.01337968  0.2611099   0.26647305  0.2682283\n",
            " -0.01285307  0.26370996  0.25596845  0.2663045   0.264647    0.266962\n",
            " -0.01062624 -0.01316702  0.2627189   0.26786602 -0.01431487 -0.01152825\n",
            " -0.00977804  0.25763464  0.27119598 -0.01396683 -0.00813822  0.26650098\n",
            "  0.2685848  -0.01217547  0.2637197   0.23113811 -0.00401114 -0.00751641\n",
            "  0.26706     0.26264223 -0.01310177  0.25343266 -0.01067376 -0.006011\n",
            " -0.02146191 -0.0059991   0.26793474 -0.01140602 -0.00259564  0.27000445\n",
            " -0.00706382 -0.00979858  0.00338344  0.2673491  -0.01185238 -0.00969372\n",
            " -0.0091932  -0.01301778 -0.01211152  0.23731837  0.26177213  0.25759566\n",
            "  0.25765595  0.25644672  0.26754057  0.26333556 -0.01011511 -0.008322\n",
            "  0.26898485  0.2574624 ]\n",
            "================================================================================\n",
            "Layer 4 - Sublist 1 Length: 200, Sublist 2 Length: 150\n",
            "Sublist 1 (weights):\n",
            "[[ 0.16348891  0.01610355  0.01787752 ...  0.13175415 -0.1323897\n",
            "   0.03577299]\n",
            " [-0.0366629  -0.11975817 -0.07643064 ...  0.02585036  0.09660711\n",
            "   0.08163624]\n",
            " [ 0.15179415  0.00940809  0.07824091 ...  0.19057994  0.04202965\n",
            "   0.10869755]\n",
            " ...\n",
            " [ 0.06899897 -0.06168955 -0.11333811 ...  0.078109   -0.07562213\n",
            "   0.12239997]\n",
            " [ 0.13277282 -0.13404766  0.24708746 ...  0.1433065  -0.12175994\n",
            "   0.12272192]\n",
            " [ 0.04066591  0.08548857  0.23707058 ...  0.14775084  0.07161448\n",
            "   0.014354  ]]\n",
            "Sublist 2 (biases):\n",
            "[ 0.30596918 -0.00842049  0.28969055 -0.00885319 -0.00764651 -0.01304815\n",
            "  0.2960374   0.30493218 -0.02225216  0.00323527  0.30416042 -0.01192651\n",
            "  0.3109845  -0.01234509  0.30659813  0.29767677  0.2944107   0.28756425\n",
            "  0.          0.28816476  0.29912016  0.303796    0.30329856  0.30437294\n",
            " -0.01026798  0.3033486   0.2984797  -0.01082438  0.30849907  0.28944492\n",
            "  0.2978983   0.30719894  0.2884046   0.2926146   0.30809408  0.29804367\n",
            "  0.2883228  -0.01069776  0.26353005  0.          0.30105346  0.00353918\n",
            "  0.30443484  0.30355293  0.30443138  0.          0.30209082  0.24489127\n",
            "  0.2910439   0.30753338 -0.01803119  0.3010044   0.27332962 -0.0112949\n",
            " -0.00802639  0.30172992 -0.01142708  0.29557085  0.3103178   0.2963304\n",
            "  0.29210243 -0.0140307   0.26383427 -0.01073316  0.29954112  0.30644616\n",
            " -0.01458548  0.00380032  0.29653817 -0.00811593 -0.00848816 -0.00809356\n",
            "  0.00771224 -0.00163986  0.30065507 -0.00771884  0.2997255   0.30892748\n",
            " -0.00276435  0.30956864  0.2800711   0.30218542  0.29276583  0.30918294\n",
            " -0.00815092 -0.0073139   0.00552896 -0.01473335 -0.01281071 -0.00102699\n",
            " -0.00599672  0.3051328   0.3018633   0.          0.28572556  0.30916128\n",
            "  0.29964453  0.29836038  0.272218    0.24458566  0.2649993   0.2939972\n",
            "  0.30725217 -0.01266294 -0.01947105  0.30306354  0.21523637 -0.00520974\n",
            "  0.30951825  0.30384502  0.3033219  -0.00865093  0.29151738  0.26814818\n",
            "  0.30469126  0.          0.30887648 -0.00811917 -0.00964905 -0.00640601\n",
            "  0.          0.2917035   0.29974058 -0.01832678 -0.00645289  0.2869626\n",
            " -0.01116745  0.30261955  0.          0.30389088  0.30618542 -0.00611073\n",
            "  0.          0.          0.26257417 -0.01216375  0.3055269   0.3009189\n",
            "  0.2953909   0.29788354  0.30258587  0.00327908  0.29750577 -0.00843534\n",
            " -0.01758215 -0.00675543  0.27263477  0.29794097 -0.026057   -0.00554044]\n",
            "================================================================================\n",
            "Layer 5 - Sublist 1 Length: 150, Sublist 2 Length: 96\n",
            "Sublist 1 (weights):\n",
            "[[ 0.0473878   0.07865214 -0.09231421 ...  0.10883131  0.10649644\n",
            "   0.03358142]\n",
            " [ 0.16126049  0.03573217  0.11429001 ...  0.10030201 -0.06948528\n",
            "   0.12847908]\n",
            " [ 0.03022566  0.17739013 -0.02980196 ... -0.00747662 -0.11582319\n",
            "   0.07698156]\n",
            " ...\n",
            " [ 0.19629698  0.22323883  0.06609624 ...  0.12607232  0.11839288\n",
            "  -0.10311737]\n",
            " [ 0.11618583 -0.05508931  0.0377816  ...  0.07075984  0.08594675\n",
            "  -0.02859886]\n",
            " [-0.10928697 -0.02710514  0.04032138 ...  0.07361898  0.09852684\n",
            "  -0.09037066]]\n",
            "Sublist 2 (biases):\n",
            "[ 3.3094752e-01  3.3149981e-01 -9.7329272e-03  3.3864936e-01\n",
            "  9.8630961e-05  3.2627118e-01  0.0000000e+00  3.3392543e-01\n",
            "  3.1896982e-01  3.3379886e-01  3.2776734e-01  3.3719391e-01\n",
            "  3.2577443e-01  3.3215475e-01 -5.9939385e-03  3.3530265e-01\n",
            "  3.3794379e-01  3.3901104e-01  0.0000000e+00  3.3258078e-01\n",
            "  5.9964517e-03  3.3564857e-01  3.1589201e-01 -6.2540327e-03\n",
            "  3.3419961e-01  3.3684295e-01  5.5008824e-03 -1.5496570e-02\n",
            "  3.3692920e-01 -6.6996310e-03  3.2314065e-01  3.3403865e-01\n",
            "  3.3957383e-01  2.9688159e-01 -5.9679486e-03  2.4142207e-03\n",
            "  2.9929864e-01  7.6231477e-03  0.0000000e+00  0.0000000e+00\n",
            "  2.9892957e-01 -1.3779136e-02  3.3407119e-01  3.0340952e-01\n",
            "  3.3223242e-01 -1.0719780e-02  3.4304523e-01  5.5563194e-03\n",
            "  3.2674184e-01 -6.0032168e-03  3.3415371e-01 -6.0050981e-03\n",
            "  3.3906785e-01 -7.9346569e-03 -1.3092836e-02 -9.0441909e-03\n",
            "  3.3242440e-01  3.3787793e-01 -1.3421624e-02 -5.6807916e-03\n",
            "  3.2256851e-01 -5.9696948e-03 -1.8907929e-02  3.5235970e-03\n",
            " -8.3773052e-03  3.4229118e-01 -9.3487045e-03 -5.9981798e-03\n",
            "  0.0000000e+00  5.9980145e-03 -6.5356335e-03 -6.2577040e-03\n",
            " -1.1332647e-02  3.4164914e-01 -1.0810339e-02 -1.6061708e-02\n",
            " -5.9691770e-03  3.5099173e-03  3.3943662e-01 -1.1828161e-02\n",
            " -2.7128747e-02  0.0000000e+00  3.3920777e-01  3.3696598e-01\n",
            "  3.3719274e-01  3.3940080e-01  3.3893675e-01  5.5531072e-03\n",
            "  3.3785844e-01  3.3324763e-01  5.9992988e-03  3.3900565e-01\n",
            " -2.1303287e-02  3.3374435e-01  6.0026059e-03 -1.7098513e-02]\n",
            "================================================================================\n",
            "Layer 6 - Sublist 1 Length: 96, Sublist 2 Length: 64\n",
            "Sublist 1 (weights):\n",
            "[[ 0.00960646 -0.03883335  0.303507   ...  0.0047845   0.15978089\n",
            "  -0.17580697]\n",
            " [ 0.03116905  0.09979723  0.21266966 ...  0.03302173 -0.06599116\n",
            "   0.03863928]\n",
            " [ 0.10499955  0.11007108  0.00929383 ...  0.11631019  0.16359213\n",
            "  -0.03477263]\n",
            " ...\n",
            " [ 0.0718374   0.25088027  0.2891618  ...  0.253173   -0.02660507\n",
            "  -0.14651486]\n",
            " [ 0.04920757 -0.07422015  0.03456676 ... -0.12205796  0.15134743\n",
            "   0.09951785]\n",
            " [ 0.03464697  0.04091313  0.09657751 ...  0.05455557 -0.03961283\n",
            "  -0.07967672]]\n",
            "Sublist 2 (biases):\n",
            "[-0.00733085  0.3566322   0.36746722 -0.02459472  0.36311626 -0.00598406\n",
            " -0.02259225  0.36932626 -0.01659519  0.28108212  0.33679813  0.3556596\n",
            "  0.36942852  0.00824654  0.3616663   0.35751474  0.30004948  0.3467499\n",
            "  0.36382368 -0.00820291  0.00963082  0.          0.352553    0.\n",
            "  0.36874643 -0.00218158 -0.01784972  0.3499966   0.35171175  0.3713818\n",
            "  0.31087932  0.36518103  0.35419002 -0.00840308  0.36717534  0.36283603\n",
            "  0.36635256  0.36867827  0.36770913 -0.01155287 -0.01114216  0.01341304\n",
            " -0.00595103  0.36404464 -0.00600366  0.36390263  0.35784712  0.\n",
            "  0.31492144 -0.01067651  0.3564193  -0.01373522  0.32261047 -0.00600257\n",
            " -0.0055548  -0.02130772  0.          0.3634687  -0.02276024  0.36090565\n",
            "  0.36687487  0.36977312  0.         -0.01945313]\n",
            "================================================================================\n",
            "Layer 7 - Sublist 1 Length: 64, Sublist 2 Length: 32\n",
            "Sublist 1 (weights):\n",
            "[[-0.06062448 -0.07099461 -0.03153794 ...  0.05556992  0.10164294\n",
            "  -0.05688049]\n",
            " [ 0.3353318   0.20675665  0.16945115 ...  0.17858918 -0.05303902\n",
            "  -0.08545313]\n",
            " [-0.03503007  0.22113416 -0.02819985 ...  0.24092273 -0.04182946\n",
            "  -0.11916038]\n",
            " ...\n",
            " [ 0.3004327   0.3059463  -0.22103383 ...  0.02362087 -0.13398209\n",
            "  -0.1900419 ]\n",
            " [ 0.19633704  0.11969626  0.03280342 ...  0.2391491  -0.11340976\n",
            "  -0.23783702]\n",
            " [ 0.23198694 -0.09024804 -0.08471422 ...  0.06179803 -0.12282854\n",
            "   0.01402187]]\n",
            "Sublist 2 (biases):\n",
            "[ 0.3794649   0.38450897 -0.0178728   0.3781337   0.37741345  0.38447034\n",
            "  0.3818138   0.3768089   0.38547665  0.38152933 -0.02022917  0.00389397\n",
            "  0.00600468  0.38070843  0.          0.          0.37890416 -0.00600414\n",
            "  0.00600428  0.3829662   0.31320557 -0.0151482   0.267255    0.38472024\n",
            "  0.3200992  -0.03009891 -0.00624856  0.38442796  0.32068613  0.28383607\n",
            " -0.00827931 -0.00600539]\n",
            "================================================================================\n",
            "Layer 8 - Sublist 1 Length: 32, Sublist 2 Length: 1\n",
            "Sublist 1 (weights):\n",
            "[[ 0.3945487 ]\n",
            " [ 0.5462896 ]\n",
            " [-0.3685853 ]\n",
            " [ 0.14816828]\n",
            " [ 0.19279864]\n",
            " [ 0.5387515 ]\n",
            " [ 0.29938766]\n",
            " [ 0.15919356]\n",
            " [ 0.48030642]\n",
            " [ 0.28201333]\n",
            " [-0.21676497]\n",
            " [-0.04427591]\n",
            " [ 0.1360243 ]\n",
            " [ 0.2727698 ]\n",
            " [-0.03377557]\n",
            " [-0.2963215 ]\n",
            " [ 0.21488422]\n",
            " [-0.14772964]\n",
            " [ 0.05276198]\n",
            " [ 0.40500376]\n",
            " [ 0.10436219]\n",
            " [ 0.00797788]\n",
            " [ 0.07790162]\n",
            " [ 0.5294993 ]\n",
            " [ 0.11119234]\n",
            " [-0.03934885]\n",
            " [-0.05716605]\n",
            " [ 0.4965417 ]\n",
            " [ 0.097844  ]\n",
            " [ 0.08910265]\n",
            " [-0.15901828]\n",
            " [-0.25590602]]\n",
            "Sublist 2 (biases):\n",
            "[0.38784286]\n",
            "================================================================================\n"
          ]
        }
      ]
    },
    {
      "cell_type": "code",
      "source": [
        "num_neurons_layer_1 = model.layers[0].weights[0].shape[1]  # Assuming model is your neural network model\n",
        "print(num_neurons_layer_1)\n"
      ],
      "metadata": {
        "colab": {
          "base_uri": "https://localhost:8080/"
        },
        "id": "DXvF_081IFQ8",
        "outputId": "80c88936-c771-42dc-a744-32e60868323e"
      },
      "execution_count": null,
      "outputs": [
        {
          "output_type": "stream",
          "name": "stdout",
          "text": [
            "512\n"
          ]
        }
      ]
    },
    {
      "cell_type": "markdown",
      "source": [
        "# Lime"
      ],
      "metadata": {
        "id": "ZCOzwOJ0bZco"
      }
    },
    {
      "cell_type": "code",
      "source": [
        "!pip install lime\n"
      ],
      "metadata": {
        "colab": {
          "base_uri": "https://localhost:8080/"
        },
        "id": "YqlfMXZFcA9X",
        "outputId": "eae23b7b-7713-4a28-861f-6967bb5870ec"
      },
      "execution_count": null,
      "outputs": [
        {
          "output_type": "stream",
          "name": "stdout",
          "text": [
            "Collecting lime\n",
            "  Downloading lime-0.2.0.1.tar.gz (275 kB)\n",
            "\u001b[2K     \u001b[90m━━━━━━━━━━━━━━━━━━━━━━━━━━━━━━━━━━━━━━━━\u001b[0m \u001b[32m275.7/275.7 kB\u001b[0m \u001b[31m1.9 MB/s\u001b[0m eta \u001b[36m0:00:00\u001b[0m\n",
            "\u001b[?25h  Preparing metadata (setup.py) ... \u001b[?25l\u001b[?25hdone\n",
            "Requirement already satisfied: matplotlib in /usr/local/lib/python3.10/dist-packages (from lime) (3.7.1)\n",
            "Requirement already satisfied: numpy in /usr/local/lib/python3.10/dist-packages (from lime) (1.23.5)\n",
            "Requirement already satisfied: scipy in /usr/local/lib/python3.10/dist-packages (from lime) (1.11.4)\n",
            "Requirement already satisfied: tqdm in /usr/local/lib/python3.10/dist-packages (from lime) (4.66.1)\n",
            "Requirement already satisfied: scikit-learn>=0.18 in /usr/local/lib/python3.10/dist-packages (from lime) (1.2.2)\n",
            "Requirement already satisfied: scikit-image>=0.12 in /usr/local/lib/python3.10/dist-packages (from lime) (0.19.3)\n",
            "Requirement already satisfied: networkx>=2.2 in /usr/local/lib/python3.10/dist-packages (from scikit-image>=0.12->lime) (3.2.1)\n",
            "Requirement already satisfied: pillow!=7.1.0,!=7.1.1,!=8.3.0,>=6.1.0 in /usr/local/lib/python3.10/dist-packages (from scikit-image>=0.12->lime) (9.4.0)\n",
            "Requirement already satisfied: imageio>=2.4.1 in /usr/local/lib/python3.10/dist-packages (from scikit-image>=0.12->lime) (2.31.6)\n",
            "Requirement already satisfied: tifffile>=2019.7.26 in /usr/local/lib/python3.10/dist-packages (from scikit-image>=0.12->lime) (2023.12.9)\n",
            "Requirement already satisfied: PyWavelets>=1.1.1 in /usr/local/lib/python3.10/dist-packages (from scikit-image>=0.12->lime) (1.5.0)\n",
            "Requirement already satisfied: packaging>=20.0 in /usr/local/lib/python3.10/dist-packages (from scikit-image>=0.12->lime) (23.2)\n",
            "Requirement already satisfied: joblib>=1.1.1 in /usr/local/lib/python3.10/dist-packages (from scikit-learn>=0.18->lime) (1.3.2)\n",
            "Requirement already satisfied: threadpoolctl>=2.0.0 in /usr/local/lib/python3.10/dist-packages (from scikit-learn>=0.18->lime) (3.2.0)\n",
            "Requirement already satisfied: contourpy>=1.0.1 in /usr/local/lib/python3.10/dist-packages (from matplotlib->lime) (1.2.0)\n",
            "Requirement already satisfied: cycler>=0.10 in /usr/local/lib/python3.10/dist-packages (from matplotlib->lime) (0.12.1)\n",
            "Requirement already satisfied: fonttools>=4.22.0 in /usr/local/lib/python3.10/dist-packages (from matplotlib->lime) (4.47.2)\n",
            "Requirement already satisfied: kiwisolver>=1.0.1 in /usr/local/lib/python3.10/dist-packages (from matplotlib->lime) (1.4.5)\n",
            "Requirement already satisfied: pyparsing>=2.3.1 in /usr/local/lib/python3.10/dist-packages (from matplotlib->lime) (3.1.1)\n",
            "Requirement already satisfied: python-dateutil>=2.7 in /usr/local/lib/python3.10/dist-packages (from matplotlib->lime) (2.8.2)\n",
            "Requirement already satisfied: six>=1.5 in /usr/local/lib/python3.10/dist-packages (from python-dateutil>=2.7->matplotlib->lime) (1.16.0)\n",
            "Building wheels for collected packages: lime\n",
            "  Building wheel for lime (setup.py) ... \u001b[?25l\u001b[?25hdone\n",
            "  Created wheel for lime: filename=lime-0.2.0.1-py3-none-any.whl size=283835 sha256=52100726fd4dd899f57ff7f4426e41d7cb688a2a06f9d0c4a05deab058823b78\n",
            "  Stored in directory: /root/.cache/pip/wheels/fd/a2/af/9ac0a1a85a27f314a06b39e1f492bee1547d52549a4606ed89\n",
            "Successfully built lime\n",
            "Installing collected packages: lime\n",
            "Successfully installed lime-0.2.0.1\n"
          ]
        }
      ]
    },
    {
      "cell_type": "code",
      "source": [
        "from lime.lime_tabular import LimeTabularExplainer\n",
        "\n",
        "x_test_dense = x_test.toarray()\n",
        "\n",
        "# Create a LIME explainer\n",
        "explainer = LimeTabularExplainer(x_train_dense, mode='regression')\n",
        "\n",
        "# Choose a specific instance for analysis\n",
        "instance_to_explain = x_test_dense[0]\n",
        "\n",
        "# Generate LIME explanation\n",
        "explanation = explainer.explain_instance(instance_to_explain, model.predict)\n",
        "\n",
        "# Print feature importance\n",
        "print(\"LIME Feature Importance:\")\n",
        "for feature, importance in explanation.as_list():\n",
        "    print(f\"{feature}: {importance}\")\n"
      ],
      "metadata": {
        "colab": {
          "base_uri": "https://localhost:8080/"
        },
        "id": "_SgGHSGcbdWG",
        "outputId": "a93350a8-c1e6-4d34-93f0-4a95ef9e2167"
      },
      "execution_count": null,
      "outputs": [
        {
          "output_type": "stream",
          "name": "stdout",
          "text": [
            "157/157 [==============================] - 1s 7ms/step\n",
            "LIME Feature Importance:\n",
            "371 <= 0.00: -27893258.654797997\n",
            "444 <= 0.00: -23434091.196559425\n",
            "43 <= 0.00: -22119024.031996153\n",
            "46 <= 0.00: -18733465.05037524\n",
            "494 <= 0.00: -16915427.462897804\n",
            "113 <= 0.00: -16551603.485525962\n",
            "370 <= 0.00: -13813242.948368035\n",
            "330 <= 0.00: -13530360.4223492\n",
            "498 <= 0.00: -12841625.623146\n",
            "18 <= 0.00: -7797892.193344115\n"
          ]
        }
      ]
    },
    {
      "cell_type": "code",
      "source": [
        "from lime.lime_tabular import LimeTabularExplainer\n",
        "\n",
        "# Create a LIME explainer for tabular data\n",
        "explainer = LimeTabularExplainer(x_train_dense, mode=\"regression\")\n",
        "\n",
        "# Select an instance for explanation (replace with an actual instance)\n",
        "instance_idx = 0\n",
        "instance_to_explain = x_train_dense[instance_idx]\n",
        "\n",
        "# Generate an explanation for the instance\n",
        "explanation = explainer.explain_instance(instance_to_explain, model.predict, num_features=10)\n",
        "\n",
        "# Get feature importance values\n",
        "feature_importance = explanation.as_list()\n",
        "\n",
        "# Separate features and importance values\n",
        "features, importance_values = zip(*feature_importance)\n",
        "\n",
        "# Create a bar plot to visualize feature importance\n",
        "plt.figure(figsize=(10, 6))\n",
        "plt.barh(features, importance_values, color=\"blue\")\n",
        "plt.xlabel(\"Feature Importance\")\n",
        "plt.ylabel(\"Features\")\n",
        "plt.title(\"Feature Importance for Price Prediction\")\n",
        "plt.show()\n"
      ],
      "metadata": {
        "colab": {
          "base_uri": "https://localhost:8080/",
          "height": 581
        },
        "id": "5c4aDrXEoup6",
        "outputId": "381efa49-9217-4b4f-eff7-35a47a557395"
      },
      "execution_count": null,
      "outputs": [
        {
          "output_type": "stream",
          "name": "stdout",
          "text": [
            "157/157 [==============================] - 1s 8ms/step\n"
          ]
        },
        {
          "output_type": "display_data",
          "data": {
            "text/plain": [
              "<Figure size 1000x600 with 1 Axes>"
            ],
            "image/png": "[encoded data removed]"
          },
          "metadata": {}
        }
      ]
    },
    {
      "cell_type": "code",
      "source": [
        "# Get the transformed feature names from the ColumnTransformer\n",
        "transformed_feature_names = preprocessor.get_feature_names_out()\n",
        "\n",
        "# Create a dictionary to map transformed indices to feature names\n",
        "transformed_to_original_mapping = {}\n",
        "for idx, feature_name in enumerate(transformed_feature_names):\n",
        "    transformed_to_original_mapping[idx] = feature_name\n",
        "\n",
        "# List of index numbers and their corresponding importance values\n",
        "index_importance_pairs = [\n",
        "    (371, -32868665.225154236),\n",
        "    (498, -26805590.600108985),\n",
        "    (444, -25402598.036269557),\n",
        "    (18, -21619192.97852865),\n",
        "    (94, -19431900.407977663),\n",
        "    (370, -18856988.163314193),\n",
        "    (118, -17327549.734043565),\n",
        "    (499, -16107624.992196282),\n",
        "    (494, -12020293.268192966),\n",
        "    (475, -7918932.1969574345)\n",
        "]\n",
        "\n",
        "# Print relevant feature names for the given index numbers\n",
        "for idx, importance in index_importance_pairs:\n",
        "    if idx in transformed_to_original_mapping:\n",
        "        print(f\"{idx} ({transformed_to_original_mapping[idx]}): {importance}\")\n",
        "    else:\n",
        "        print(f\"Index {idx} not found in transformed feature names.\")\n"
      ],
      "metadata": {
        "colab": {
          "base_uri": "https://localhost:8080/"
        },
        "id": "_Q1lmn-DouzQ",
        "outputId": "e8823485-31b7-4dd8-89da-01bfdfd25bcb"
      },
      "execution_count": null,
      "outputs": [
        {
          "output_type": "stream",
          "name": "stdout",
          "text": [
            "371 (encoder__Model_Land Cruiser Sahara): -32868665.225154236\n",
            "498 (encoder__Model_S400): -26805590.600108985\n",
            "444 (encoder__Model_Patrol): -25402598.036269557\n",
            "18 (encoder__Brand_Hummer): -21619192.97852865\n",
            "94 (encoder__Model_4Runner): -19431900.407977663\n",
            "370 (encoder__Model_Land Cruiser Prado): -18856988.163314193\n",
            "118 (encoder__Model_740Le): -17327549.734043565\n",
            "499 (encoder__Model_S500): -16107624.992196282\n",
            "494 (encoder__Model_S300): -12020293.268192966\n",
            "475 (encoder__Model_Range Rover PHEV): -7918932.1969574345\n"
          ]
        }
      ]
    },
    {
      "cell_type": "code",
      "source": [],
      "metadata": {
        "id": "ldiDiCIhou9v"
      },
      "execution_count": null,
      "outputs": []
    },
    {
      "cell_type": "markdown",
      "source": [
        "# shap"
      ],
      "metadata": {
        "id": "dbcaNLeWFO7n"
      }
    },
    {
      "cell_type": "code",
      "source": [
        "!pip install shap"
      ],
      "metadata": {
        "id": "TRuV2huDovBT",
        "colab": {
          "base_uri": "https://localhost:8080/"
        },
        "outputId": "9a0db03b-7329-4e29-ff41-83789652c6a1"
      },
      "execution_count": null,
      "outputs": [
        {
          "output_type": "stream",
          "name": "stdout",
          "text": [
            "Collecting shap\n",
            "  Downloading shap-0.44.1-cp310-cp310-manylinux_2_12_x86_64.manylinux2010_x86_64.manylinux_2_17_x86_64.manylinux2014_x86_64.whl (535 kB)\n",
            "\u001b[2K     \u001b[90m━━━━━━━━━━━━━━━━━━━━━━━━━━━━━━━━━━━━━━━━\u001b[0m \u001b[32m535.7/535.7 kB\u001b[0m \u001b[31m2.9 MB/s\u001b[0m eta \u001b[36m0:00:00\u001b[0m\n",
            "\u001b[?25hRequirement already satisfied: numpy in /usr/local/lib/python3.10/dist-packages (from shap) (1.23.5)\n",
            "Requirement already satisfied: scipy in /usr/local/lib/python3.10/dist-packages (from shap) (1.11.4)\n",
            "Requirement already satisfied: scikit-learn in /usr/local/lib/python3.10/dist-packages (from shap) (1.2.2)\n",
            "Requirement already satisfied: pandas in /usr/local/lib/python3.10/dist-packages (from shap) (1.5.3)\n",
            "Requirement already satisfied: tqdm>=4.27.0 in /usr/local/lib/python3.10/dist-packages (from shap) (4.66.1)\n",
            "Requirement already satisfied: packaging>20.9 in /usr/local/lib/python3.10/dist-packages (from shap) (23.2)\n",
            "Collecting slicer==0.0.7 (from shap)\n",
            "  Downloading slicer-0.0.7-py3-none-any.whl (14 kB)\n",
            "Requirement already satisfied: numba in /usr/local/lib/python3.10/dist-packages (from shap) (0.58.1)\n",
            "Requirement already satisfied: cloudpickle in /usr/local/lib/python3.10/dist-packages (from shap) (2.2.1)\n",
            "Requirement already satisfied: llvmlite<0.42,>=0.41.0dev0 in /usr/local/lib/python3.10/dist-packages (from numba->shap) (0.41.1)\n",
            "Requirement already satisfied: python-dateutil>=2.8.1 in /usr/local/lib/python3.10/dist-packages (from pandas->shap) (2.8.2)\n",
            "Requirement already satisfied: pytz>=2020.1 in /usr/local/lib/python3.10/dist-packages (from pandas->shap) (2023.3.post1)\n",
            "Requirement already satisfied: joblib>=1.1.1 in /usr/local/lib/python3.10/dist-packages (from scikit-learn->shap) (1.3.2)\n",
            "Requirement already satisfied: threadpoolctl>=2.0.0 in /usr/local/lib/python3.10/dist-packages (from scikit-learn->shap) (3.2.0)\n",
            "Requirement already satisfied: six>=1.5 in /usr/local/lib/python3.10/dist-packages (from python-dateutil>=2.8.1->pandas->shap) (1.16.0)\n",
            "Installing collected packages: slicer, shap\n",
            "Successfully installed shap-0.44.1 slicer-0.0.7\n"
          ]
        }
      ]
    },
    {
      "cell_type": "code",
      "source": [
        "x_test_dense = x_test.toarray()  # Convert SparseTensor to dense array\n",
        "loss = model.evaluate(x_test_dense, y_test)\n",
        "print('MSE:', loss)\n",
        "\n",
        "# MSE: [200,131,265,691,648.0, 0.0] in 20\n",
        "# MSE: [32,581,542,215,680.0, 0.0] in 15\n",
        "# MSE: [39652052434944.0, 0.0] in 12\n",
        "# MSE: [32,908,305,760,256.0, 0.0] in 10 epochs\n",
        "# MSE: [52,614,662,193,152.0, 0.0] in 5"
      ],
      "metadata": {
        "colab": {
          "base_uri": "https://localhost:8080/"
        },
        "id": "JA9mg2M4e-kq",
        "outputId": "ded54013-5474-47c6-f67c-4f91bb1f25cb"
      },
      "execution_count": null,
      "outputs": [
        {
          "output_type": "stream",
          "name": "stdout",
          "text": [
            "235/235 [==============================] - 4s 11ms/step - loss: 1589174.2500 - mse: 12340504297472.0000\n",
            "MSE: [1589174.25, 12340504297472.0]\n"
          ]
        }
      ]
    },
    {
      "cell_type": "code",
      "source": [
        "y_train_pred=model.predict(x_train)\n",
        "y_train_pred"
      ],
      "metadata": {
        "colab": {
          "base_uri": "https://localhost:8080/"
        },
        "id": "hlZ2PEZ5AxXK",
        "outputId": "b632b214-4f49-4f28-8deb-4b73f18d6b8c"
      },
      "execution_count": null,
      "outputs": [
        {
          "output_type": "stream",
          "name": "stdout",
          "text": [
            "1329/1329 [==============================] - 8s 6ms/step\n"
          ]
        },
        {
          "output_type": "execute_result",
          "data": {
            "text/plain": [
              "array([[ 1654824.1],\n",
              "       [  725687.6],\n",
              "       [  641705.6],\n",
              "       ...,\n",
              "       [10355286. ],\n",
              "       [34346596. ],\n",
              "       [ 3176980.8]], dtype=float32)"
            ]
          },
          "metadata": {},
          "execution_count": 49
        }
      ]
    },
    {
      "cell_type": "code",
      "source": [
        "y_test_pred=model.predict(x_test)"
      ],
      "metadata": {
        "colab": {
          "base_uri": "https://localhost:8080/"
        },
        "id": "AObJFb1bB2VR",
        "outputId": "5add9291-0add-4322-a2b5-6ce739355a02"
      },
      "execution_count": null,
      "outputs": [
        {
          "output_type": "stream",
          "name": "stdout",
          "text": [
            "235/235 [==============================] - 1s 3ms/step\n"
          ]
        }
      ]
    },
    {
      "cell_type": "code",
      "source": [
        "from scipy.stats import norm"
      ],
      "metadata": {
        "id": "K1CfcjiX9KT-"
      },
      "execution_count": null,
      "outputs": []
    },
    {
      "cell_type": "code",
      "source": [
        "y_std = price_df.std()\n",
        "y_mean = price_df.mean()\n",
        "prediction_probability = norm.cdf(y_train_pred, loc=y_mean, scale=y_std)\n",
        "print(prediction_probability)"
      ],
      "metadata": {
        "colab": {
          "base_uri": "https://localhost:8080/"
        },
        "id": "W8XEXpVU7OTg",
        "outputId": "3b18705d-42ea-44fb-c7aa-7b61b22356a6"
      },
      "execution_count": null,
      "outputs": [
        {
          "output_type": "stream",
          "name": "stdout",
          "text": [
            "[[0.25058403]\n",
            " [0.22439529]\n",
            " [0.22210723]\n",
            " ...\n",
            " [0.54824468]\n",
            " [0.98956518]\n",
            " [0.2967529 ]]\n"
          ]
        }
      ]
    },
    {
      "cell_type": "code",
      "source": [
        "print(y_std)\n",
        "print(y_mean)"
      ],
      "metadata": {
        "colab": {
          "base_uri": "https://localhost:8080/"
        },
        "id": "RegK0HuTGLST",
        "outputId": "4cc2d169-1774-497f-cb66-6de0ee1e837d"
      },
      "execution_count": null,
      "outputs": [
        {
          "output_type": "stream",
          "name": "stdout",
          "text": [
            "Price    1.095941e+07\n",
            "dtype: float64\n",
            "Price    9.026702e+06\n",
            "dtype: float64\n"
          ]
        }
      ]
    },
    {
      "cell_type": "code",
      "source": [
        "y_std = 10908531.416802594\n",
        "%store y_std\n",
        "y_mean = 9020809.212917646\n",
        "%store y_mean"
      ],
      "metadata": {
        "colab": {
          "base_uri": "https://localhost:8080/"
        },
        "id": "u5hzcDOSGy9J",
        "outputId": "7717a5ee-7329-4261-c992-7e6066f1869d"
      },
      "execution_count": null,
      "outputs": [
        {
          "output_type": "stream",
          "name": "stdout",
          "text": [
            "Stored 'y_std' (float)\n",
            "Stored 'y_mean' (float)\n"
          ]
        }
      ]
    },
    {
      "cell_type": "code",
      "source": [
        "y_train.shape"
      ],
      "metadata": {
        "colab": {
          "base_uri": "https://localhost:8080/"
        },
        "id": "IrnNKowdDVqO",
        "outputId": "be183ef3-9259-4b12-f79a-7d332987b3bc"
      },
      "execution_count": null,
      "outputs": [
        {
          "output_type": "execute_result",
          "data": {
            "text/plain": [
              "(42500,)"
            ]
          },
          "metadata": {},
          "execution_count": 55
        }
      ]
    },
    {
      "cell_type": "code",
      "source": [
        "y_train_pred.shape"
      ],
      "metadata": {
        "colab": {
          "base_uri": "https://localhost:8080/"
        },
        "id": "gvjz1WidDY4O",
        "outputId": "e1405beb-7926-43e1-f4f5-1641a1fcdf7a"
      },
      "execution_count": null,
      "outputs": [
        {
          "output_type": "execute_result",
          "data": {
            "text/plain": [
              "(42500, 1)"
            ]
          },
          "metadata": {},
          "execution_count": 56
        }
      ]
    },
    {
      "cell_type": "code",
      "source": [
        "y_train_pred = y_train_pred.reshape(-1)"
      ],
      "metadata": {
        "id": "7beMXobHDvD7"
      },
      "execution_count": null,
      "outputs": []
    },
    {
      "cell_type": "code",
      "source": [
        "y_train_pred.shape"
      ],
      "metadata": {
        "colab": {
          "base_uri": "https://localhost:8080/"
        },
        "id": "jTA0WUMJD0Kc",
        "outputId": "ad019b2b-6aa1-4117-df5a-89606027b13d"
      },
      "execution_count": null,
      "outputs": [
        {
          "output_type": "execute_result",
          "data": {
            "text/plain": [
              "(42500,)"
            ]
          },
          "metadata": {},
          "execution_count": 58
        }
      ]
    },
    {
      "cell_type": "code",
      "source": [
        "import pandas as pd\n",
        "\n",
        "df_predict_train = pd.DataFrame({'actual price': y_train, 'pred_train': y_train_pred})\n",
        "df_predict_train"
      ],
      "metadata": {
        "colab": {
          "base_uri": "https://localhost:8080/",
          "height": 424
        },
        "id": "vZzfBrAWB89a",
        "outputId": "b9b781b8-b724-4a67-8cd3-a298295eb6c8"
      },
      "execution_count": null,
      "outputs": [
        {
          "output_type": "execute_result",
          "data": {
            "text/plain": [
              "       actual price    pred_train\n",
              "29396       2450000  1.654824e+06\n",
              "12060        900000  7.256876e+05\n",
              "26412        410000  6.417056e+05\n",
              "18901      12400000  1.056469e+07\n",
              "30868       5575000  5.293581e+06\n",
              "...             ...           ...\n",
              "10495       4450000  4.016474e+06\n",
              "503        70500000  7.264884e+07\n",
              "30416       7590000  1.035529e+07\n",
              "15257      23850000  3.434660e+07\n",
              "27143       2850000  3.176981e+06\n",
              "\n",
              "[42500 rows x 2 columns]"
            ],
            "text/html": [
              "\n",
              "  <div id=\"df-5cc399eb-0729-461a-a4db-e2c456207723\" class=\"colab-df-container\">\n",
              "    <div>\n",
              "<style scoped>\n",
              "    .dataframe tbody tr th:only-of-type {\n",
              "        vertical-align: middle;\n",
              "    }\n",
              "\n",
              "    .dataframe tbody tr th {\n",
              "        vertical-align: top;\n",
              "    }\n",
              "\n",
              "    .dataframe thead th {\n",
              "        text-align: right;\n",
              "    }\n",
              "</style>\n",
              "<table border=\"1\" class=\"dataframe\">\n",
              "  <thead>\n",
              "    <tr style=\"text-align: right;\">\n",
              "      <th></th>\n",
              "      <th>actual price</th>\n",
              "      <th>pred_train</th>\n",
              "    </tr>\n",
              "  </thead>\n",
              "  <tbody>\n",
              "    <tr>\n",
              "      <th>29396</th>\n",
              "      <td>2450000</td>\n",
              "      <td>1.654824e+06</td>\n",
              "    </tr>\n",
              "    <tr>\n",
              "      <th>12060</th>\n",
              "      <td>900000</td>\n",
              "      <td>7.256876e+05</td>\n",
              "    </tr>\n",
              "    <tr>\n",
              "      <th>26412</th>\n",
              "      <td>410000</td>\n",
              "      <td>6.417056e+05</td>\n",
              "    </tr>\n",
              "    <tr>\n",
              "      <th>18901</th>\n",
              "      <td>12400000</td>\n",
              "      <td>1.056469e+07</td>\n",
              "    </tr>\n",
              "    <tr>\n",
              "      <th>30868</th>\n",
              "      <td>5575000</td>\n",
              "      <td>5.293581e+06</td>\n",
              "    </tr>\n",
              "    <tr>\n",
              "      <th>...</th>\n",
              "      <td>...</td>\n",
              "      <td>...</td>\n",
              "    </tr>\n",
              "    <tr>\n",
              "      <th>10495</th>\n",
              "      <td>4450000</td>\n",
              "      <td>4.016474e+06</td>\n",
              "    </tr>\n",
              "    <tr>\n",
              "      <th>503</th>\n",
              "      <td>70500000</td>\n",
              "      <td>7.264884e+07</td>\n",
              "    </tr>\n",
              "    <tr>\n",
              "      <th>30416</th>\n",
              "      <td>7590000</td>\n",
              "      <td>1.035529e+07</td>\n",
              "    </tr>\n",
              "    <tr>\n",
              "      <th>15257</th>\n",
              "      <td>23850000</td>\n",
              "      <td>3.434660e+07</td>\n",
              "    </tr>\n",
              "    <tr>\n",
              "      <th>27143</th>\n",
              "      <td>2850000</td>\n",
              "      <td>3.176981e+06</td>\n",
              "    </tr>\n",
              "  </tbody>\n",
              "</table>\n",
              "<p>42500 rows × 2 columns</p>\n",
              "</div>\n",
              "    <div class=\"colab-df-buttons\">\n",
              "\n",
              "  <div class=\"colab-df-container\">\n",
              "    <button class=\"colab-df-convert\" onclick=\"convertToInteractive('df-5cc399eb-0729-461a-a4db-e2c456207723')\"\n",
              "            title=\"Convert this dataframe to an interactive table.\"\n",
              "            style=\"display:none;\">\n",
              "\n",
              "  <svg xmlns=\"http://www.w3.org/2000/svg\" height=\"24px\" viewBox=\"0 -960 960 960\">\n",
              "    <path d=\"M120-120v-720h720v720H120Zm60-500h600v-160H180v160Zm220 220h160v-160H400v160Zm0 220h160v-160H400v160ZM180-400h160v-160H180v160Zm440 0h160v-160H620v160ZM180-180h160v-160H180v160Zm440 0h160v-160H620v160Z\"/>\n",
              "  </svg>\n",
              "    </button>\n",
              "\n",
              "  <style>\n",
              "    .colab-df-container {\n",
              "      display:flex;\n",
              "      gap: 12px;\n",
              "    }\n",
              "\n",
              "    .colab-df-convert {\n",
              "      background-color: #E8F0FE;\n",
              "      border: none;\n",
              "      border-radius: 50%;\n",
              "      cursor: pointer;\n",
              "      display: none;\n",
              "      fill: #1967D2;\n",
              "      height: 32px;\n",
              "      padding: 0 0 0 0;\n",
              "      width: 32px;\n",
              "    }\n",
              "\n",
              "    .colab-df-convert:hover {\n",
              "      background-color: #E2EBFA;\n",
              "      box-shadow: 0px 1px 2px rgba(60, 64, 67, 0.3), 0px 1px 3px 1px rgba(60, 64, 67, 0.15);\n",
              "      fill: #174EA6;\n",
              "    }\n",
              "\n",
              "    .colab-df-buttons div {\n",
              "      margin-bottom: 4px;\n",
              "    }\n",
              "\n",
              "    [theme=dark] .colab-df-convert {\n",
              "      background-color: #3B4455;\n",
              "      fill: #D2E3FC;\n",
              "    }\n",
              "\n",
              "    [theme=dark] .colab-df-convert:hover {\n",
              "      background-color: #434B5C;\n",
              "      box-shadow: 0px 1px 3px 1px rgba(0, 0, 0, 0.15);\n",
              "      filter: drop-shadow(0px 1px 2px rgba(0, 0, 0, 0.3));\n",
              "      fill: #FFFFFF;\n",
              "    }\n",
              "  </style>\n",
              "\n",
              "    <script>\n",
              "      const buttonEl =\n",
              "        document.querySelector('#df-5cc399eb-0729-461a-a4db-e2c456207723 button.colab-df-convert');\n",
              "      buttonEl.style.display =\n",
              "        google.colab.kernel.accessAllowed ? 'block' : 'none';\n",
              "\n",
              "      async function convertToInteractive(key) {\n",
              "        const element = document.querySelector('#df-5cc399eb-0729-461a-a4db-e2c456207723');\n",
              "        const dataTable =\n",
              "          await google.colab.kernel.invokeFunction('convertToInteractive',\n",
              "                                                    [key], {});\n",
              "        if (!dataTable) return;\n",
              "\n",
              "        const docLinkHtml = 'Like what you see? Visit the ' +\n",
              "          '<a target=\"_blank\" href=https://colab.research.google.com/notebooks/data_table.ipynb>data table notebook</a>'\n",
              "          + ' to learn more about interactive tables.';\n",
              "        element.innerHTML = '';\n",
              "        dataTable['output_type'] = 'display_data';\n",
              "        await google.colab.output.renderOutput(dataTable, element);\n",
              "        const docLink = document.createElement('div');\n",
              "        docLink.innerHTML = docLinkHtml;\n",
              "        element.appendChild(docLink);\n",
              "      }\n",
              "    </script>\n",
              "  </div>\n",
              "\n",
              "\n",
              "<div id=\"df-fd912a0d-174c-4c5c-9bab-efdc0402733e\">\n",
              "  <button class=\"colab-df-quickchart\" onclick=\"quickchart('df-fd912a0d-174c-4c5c-9bab-efdc0402733e')\"\n",
              "            title=\"Suggest charts\"\n",
              "            style=\"display:none;\">\n",
              "\n",
              "<svg xmlns=\"http://www.w3.org/2000/svg\" height=\"24px\"viewBox=\"0 0 24 24\"\n",
              "     width=\"24px\">\n",
              "    <g>\n",
              "        <path d=\"M19 3H5c-1.1 0-2 .9-2 2v14c0 1.1.9 2 2 2h14c1.1 0 2-.9 2-2V5c0-1.1-.9-2-2-2zM9 17H7v-7h2v7zm4 0h-2V7h2v10zm4 0h-2v-4h2v4z\"/>\n",
              "    </g>\n",
              "</svg>\n",
              "  </button>\n",
              "\n",
              "<style>\n",
              "  .colab-df-quickchart {\n",
              "      --bg-color: #E8F0FE;\n",
              "      --fill-color: #1967D2;\n",
              "      --hover-bg-color: #E2EBFA;\n",
              "      --hover-fill-color: #174EA6;\n",
              "      --disabled-fill-color: #AAA;\n",
              "      --disabled-bg-color: #DDD;\n",
              "  }\n",
              "\n",
              "  [theme=dark] .colab-df-quickchart {\n",
              "      --bg-color: #3B4455;\n",
              "      --fill-color: #D2E3FC;\n",
              "      --hover-bg-color: #434B5C;\n",
              "      --hover-fill-color: #FFFFFF;\n",
              "      --disabled-bg-color: #3B4455;\n",
              "      --disabled-fill-color: #666;\n",
              "  }\n",
              "\n",
              "  .colab-df-quickchart {\n",
              "    background-color: var(--bg-color);\n",
              "    border: none;\n",
              "    border-radius: 50%;\n",
              "    cursor: pointer;\n",
              "    display: none;\n",
              "    fill: var(--fill-color);\n",
              "    height: 32px;\n",
              "    padding: 0;\n",
              "    width: 32px;\n",
              "  }\n",
              "\n",
              "  .colab-df-quickchart:hover {\n",
              "    background-color: var(--hover-bg-color);\n",
              "    box-shadow: 0 1px 2px rgba(60, 64, 67, 0.3), 0 1px 3px 1px rgba(60, 64, 67, 0.15);\n",
              "    fill: var(--button-hover-fill-color);\n",
              "  }\n",
              "\n",
              "  .colab-df-quickchart-complete:disabled,\n",
              "  .colab-df-quickchart-complete:disabled:hover {\n",
              "    background-color: var(--disabled-bg-color);\n",
              "    fill: var(--disabled-fill-color);\n",
              "    box-shadow: none;\n",
              "  }\n",
              "\n",
              "  .colab-df-spinner {\n",
              "    border: 2px solid var(--fill-color);\n",
              "    border-color: transparent;\n",
              "    border-bottom-color: var(--fill-color);\n",
              "    animation:\n",
              "      spin 1s steps(1) infinite;\n",
              "  }\n",
              "\n",
              "  @keyframes spin {\n",
              "    0% {\n",
              "      border-color: transparent;\n",
              "      border-bottom-color: var(--fill-color);\n",
              "      border-left-color: var(--fill-color);\n",
              "    }\n",
              "    20% {\n",
              "      border-color: transparent;\n",
              "      border-left-color: var(--fill-color);\n",
              "      border-top-color: var(--fill-color);\n",
              "    }\n",
              "    30% {\n",
              "      border-color: transparent;\n",
              "      border-left-color: var(--fill-color);\n",
              "      border-top-color: var(--fill-color);\n",
              "      border-right-color: var(--fill-color);\n",
              "    }\n",
              "    40% {\n",
              "      border-color: transparent;\n",
              "      border-right-color: var(--fill-color);\n",
              "      border-top-color: var(--fill-color);\n",
              "    }\n",
              "    60% {\n",
              "      border-color: transparent;\n",
              "      border-right-color: var(--fill-color);\n",
              "    }\n",
              "    80% {\n",
              "      border-color: transparent;\n",
              "      border-right-color: var(--fill-color);\n",
              "      border-bottom-color: var(--fill-color);\n",
              "    }\n",
              "    90% {\n",
              "      border-color: transparent;\n",
              "      border-bottom-color: var(--fill-color);\n",
              "    }\n",
              "  }\n",
              "</style>\n",
              "\n",
              "  <script>\n",
              "    async function quickchart(key) {\n",
              "      const quickchartButtonEl =\n",
              "        document.querySelector('#' + key + ' button');\n",
              "      quickchartButtonEl.disabled = true;  // To prevent multiple clicks.\n",
              "      quickchartButtonEl.classList.add('colab-df-spinner');\n",
              "      try {\n",
              "        const charts = await google.colab.kernel.invokeFunction(\n",
              "            'suggestCharts', [key], {});\n",
              "      } catch (error) {\n",
              "        console.error('Error during call to suggestCharts:', error);\n",
              "      }\n",
              "      quickchartButtonEl.classList.remove('colab-df-spinner');\n",
              "      quickchartButtonEl.classList.add('colab-df-quickchart-complete');\n",
              "    }\n",
              "    (() => {\n",
              "      let quickchartButtonEl =\n",
              "        document.querySelector('#df-fd912a0d-174c-4c5c-9bab-efdc0402733e button');\n",
              "      quickchartButtonEl.style.display =\n",
              "        google.colab.kernel.accessAllowed ? 'block' : 'none';\n",
              "    })();\n",
              "  </script>\n",
              "</div>\n",
              "\n",
              "  <div id=\"id_a2c3d0ec-a61e-4b7b-8117-847d7a87bd4f\">\n",
              "    <style>\n",
              "      .colab-df-generate {\n",
              "        background-color: #E8F0FE;\n",
              "        border: none;\n",
              "        border-radius: 50%;\n",
              "        cursor: pointer;\n",
              "        display: none;\n",
              "        fill: #1967D2;\n",
              "        height: 32px;\n",
              "        padding: 0 0 0 0;\n",
              "        width: 32px;\n",
              "      }\n",
              "\n",
              "      .colab-df-generate:hover {\n",
              "        background-color: #E2EBFA;\n",
              "        box-shadow: 0px 1px 2px rgba(60, 64, 67, 0.3), 0px 1px 3px 1px rgba(60, 64, 67, 0.15);\n",
              "        fill: #174EA6;\n",
              "      }\n",
              "\n",
              "      [theme=dark] .colab-df-generate {\n",
              "        background-color: #3B4455;\n",
              "        fill: #D2E3FC;\n",
              "      }\n",
              "\n",
              "      [theme=dark] .colab-df-generate:hover {\n",
              "        background-color: #434B5C;\n",
              "        box-shadow: 0px 1px 3px 1px rgba(0, 0, 0, 0.15);\n",
              "        filter: drop-shadow(0px 1px 2px rgba(0, 0, 0, 0.3));\n",
              "        fill: #FFFFFF;\n",
              "      }\n",
              "    </style>\n",
              "    <button class=\"colab-df-generate\" onclick=\"generateWithVariable('df_predict_train')\"\n",
              "            title=\"Generate code using this dataframe.\"\n",
              "            style=\"display:none;\">\n",
              "\n",
              "  <svg xmlns=\"http://www.w3.org/2000/svg\" height=\"24px\"viewBox=\"0 0 24 24\"\n",
              "       width=\"24px\">\n",
              "    <path d=\"M7,19H8.4L18.45,9,17,7.55,7,17.6ZM5,21V16.75L18.45,3.32a2,2,0,0,1,2.83,0l1.4,1.43a1.91,1.91,0,0,1,.58,1.4,1.91,1.91,0,0,1-.58,1.4L9.25,21ZM18.45,9,17,7.55Zm-12,3A5.31,5.31,0,0,0,4.9,8.1,5.31,5.31,0,0,0,1,6.5,5.31,5.31,0,0,0,4.9,4.9,5.31,5.31,0,0,0,6.5,1,5.31,5.31,0,0,0,8.1,4.9,5.31,5.31,0,0,0,12,6.5,5.46,5.46,0,0,0,6.5,12Z\"/>\n",
              "  </svg>\n",
              "    </button>\n",
              "    <script>\n",
              "      (() => {\n",
              "      const buttonEl =\n",
              "        document.querySelector('#id_a2c3d0ec-a61e-4b7b-8117-847d7a87bd4f button.colab-df-generate');\n",
              "      buttonEl.style.display =\n",
              "        google.colab.kernel.accessAllowed ? 'block' : 'none';\n",
              "\n",
              "      buttonEl.onclick = () => {\n",
              "        google.colab.notebook.generateWithVariable('df_predict_train');\n",
              "      }\n",
              "      })();\n",
              "    </script>\n",
              "  </div>\n",
              "\n",
              "    </div>\n",
              "  </div>\n"
            ]
          },
          "metadata": {},
          "execution_count": 59
        }
      ]
    },
    {
      "cell_type": "code",
      "source": [
        "random_df = df_predict_train.sample(n=30)\n",
        "plt.stem(random_df['actual price'], label='actual price', markerfmt='ro')\n",
        "plt.stem(random_df['pred_train'], label='pred_train',markerfmt='go')\n",
        "\n",
        "plt.xlabel('X-axis')\n",
        "plt.ylabel(' price')\n",
        "plt.title('Graph of actual price and pred_train')\n",
        "\n",
        "plt.legend()\n",
        "plt.show()"
      ],
      "metadata": {
        "colab": {
          "base_uri": "https://localhost:8080/",
          "height": 472
        },
        "id": "yt9DusvFB9B-",
        "outputId": "733c3f10-9df5-45c6-ef28-0ad094493ba3"
      },
      "execution_count": null,
      "outputs": [
        {
          "output_type": "display_data",
          "data": {
            "text/plain": [
              "<Figure size 640x480 with 1 Axes>"
            ],
            "image/png": "[encoded data removed]"
          },
          "metadata": {}
        }
      ]
    },
    {
      "cell_type": "code",
      "source": [
        "y_test_pred = y_test_pred.reshape(-1)\n",
        "\n",
        "df_predict_test=pd.DataFrame({'actual price':y_test,'pred_test':y_test_pred})\n",
        "df_predict_test"
      ],
      "metadata": {
        "colab": {
          "base_uri": "https://localhost:8080/",
          "height": 424
        },
        "id": "5M1ALcCDB9F3",
        "outputId": "df940d7c-b384-4332-e703-b3dbcc8b72d5"
      },
      "execution_count": null,
      "outputs": [
        {
          "output_type": "execute_result",
          "data": {
            "text/plain": [
              "       actual price     pred_test\n",
              "46346      18750000  1.468157e+07\n",
              "38596      95000000  7.284848e+07\n",
              "15589      11690000  1.560673e+07\n",
              "18539      61500000  8.105112e+07\n",
              "33543        840000  6.417056e+05\n",
              "...             ...           ...\n",
              "14844       4500000  5.194662e+06\n",
              "4442        6400000  4.825541e+06\n",
              "17827        725000  6.595387e+05\n",
              "33284       6700000  6.474226e+06\n",
              "45358       3500000  2.503397e+06\n",
              "\n",
              "[7500 rows x 2 columns]"
            ],
            "text/html": [
              "\n",
              "  <div id=\"df-29028d7a-8c64-47b5-b83d-77635a248919\" class=\"colab-df-container\">\n",
              "    <div>\n",
              "<style scoped>\n",
              "    .dataframe tbody tr th:only-of-type {\n",
              "        vertical-align: middle;\n",
              "    }\n",
              "\n",
              "    .dataframe tbody tr th {\n",
              "        vertical-align: top;\n",
              "    }\n",
              "\n",
              "    .dataframe thead th {\n",
              "        text-align: right;\n",
              "    }\n",
              "</style>\n",
              "<table border=\"1\" class=\"dataframe\">\n",
              "  <thead>\n",
              "    <tr style=\"text-align: right;\">\n",
              "      <th></th>\n",
              "      <th>actual price</th>\n",
              "      <th>pred_test</th>\n",
              "    </tr>\n",
              "  </thead>\n",
              "  <tbody>\n",
              "    <tr>\n",
              "      <th>46346</th>\n",
              "      <td>18750000</td>\n",
              "      <td>1.468157e+07</td>\n",
              "    </tr>\n",
              "    <tr>\n",
              "      <th>38596</th>\n",
              "      <td>95000000</td>\n",
              "      <td>7.284848e+07</td>\n",
              "    </tr>\n",
              "    <tr>\n",
              "      <th>15589</th>\n",
              "      <td>11690000</td>\n",
              "      <td>1.560673e+07</td>\n",
              "    </tr>\n",
              "    <tr>\n",
              "      <th>18539</th>\n",
              "      <td>61500000</td>\n",
              "      <td>8.105112e+07</td>\n",
              "    </tr>\n",
              "    <tr>\n",
              "      <th>33543</th>\n",
              "      <td>840000</td>\n",
              "      <td>6.417056e+05</td>\n",
              "    </tr>\n",
              "    <tr>\n",
              "      <th>...</th>\n",
              "      <td>...</td>\n",
              "      <td>...</td>\n",
              "    </tr>\n",
              "    <tr>\n",
              "      <th>14844</th>\n",
              "      <td>4500000</td>\n",
              "      <td>5.194662e+06</td>\n",
              "    </tr>\n",
              "    <tr>\n",
              "      <th>4442</th>\n",
              "      <td>6400000</td>\n",
              "      <td>4.825541e+06</td>\n",
              "    </tr>\n",
              "    <tr>\n",
              "      <th>17827</th>\n",
              "      <td>725000</td>\n",
              "      <td>6.595387e+05</td>\n",
              "    </tr>\n",
              "    <tr>\n",
              "      <th>33284</th>\n",
              "      <td>6700000</td>\n",
              "      <td>6.474226e+06</td>\n",
              "    </tr>\n",
              "    <tr>\n",
              "      <th>45358</th>\n",
              "      <td>3500000</td>\n",
              "      <td>2.503397e+06</td>\n",
              "    </tr>\n",
              "  </tbody>\n",
              "</table>\n",
              "<p>7500 rows × 2 columns</p>\n",
              "</div>\n",
              "    <div class=\"colab-df-buttons\">\n",
              "\n",
              "  <div class=\"colab-df-container\">\n",
              "    <button class=\"colab-df-convert\" onclick=\"convertToInteractive('df-29028d7a-8c64-47b5-b83d-77635a248919')\"\n",
              "            title=\"Convert this dataframe to an interactive table.\"\n",
              "            style=\"display:none;\">\n",
              "\n",
              "  <svg xmlns=\"http://www.w3.org/2000/svg\" height=\"24px\" viewBox=\"0 -960 960 960\">\n",
              "    <path d=\"M120-120v-720h720v720H120Zm60-500h600v-160H180v160Zm220 220h160v-160H400v160Zm0 220h160v-160H400v160ZM180-400h160v-160H180v160Zm440 0h160v-160H620v160ZM180-180h160v-160H180v160Zm440 0h160v-160H620v160Z\"/>\n",
              "  </svg>\n",
              "    </button>\n",
              "\n",
              "  <style>\n",
              "    .colab-df-container {\n",
              "      display:flex;\n",
              "      gap: 12px;\n",
              "    }\n",
              "\n",
              "    .colab-df-convert {\n",
              "      background-color: #E8F0FE;\n",
              "      border: none;\n",
              "      border-radius: 50%;\n",
              "      cursor: pointer;\n",
              "      display: none;\n",
              "      fill: #1967D2;\n",
              "      height: 32px;\n",
              "      padding: 0 0 0 0;\n",
              "      width: 32px;\n",
              "    }\n",
              "\n",
              "    .colab-df-convert:hover {\n",
              "      background-color: #E2EBFA;\n",
              "      box-shadow: 0px 1px 2px rgba(60, 64, 67, 0.3), 0px 1px 3px 1px rgba(60, 64, 67, 0.15);\n",
              "      fill: #174EA6;\n",
              "    }\n",
              "\n",
              "    .colab-df-buttons div {\n",
              "      margin-bottom: 4px;\n",
              "    }\n",
              "\n",
              "    [theme=dark] .colab-df-convert {\n",
              "      background-color: #3B4455;\n",
              "      fill: #D2E3FC;\n",
              "    }\n",
              "\n",
              "    [theme=dark] .colab-df-convert:hover {\n",
              "      background-color: #434B5C;\n",
              "      box-shadow: 0px 1px 3px 1px rgba(0, 0, 0, 0.15);\n",
              "      filter: drop-shadow(0px 1px 2px rgba(0, 0, 0, 0.3));\n",
              "      fill: #FFFFFF;\n",
              "    }\n",
              "  </style>\n",
              "\n",
              "    <script>\n",
              "      const buttonEl =\n",
              "        document.querySelector('#df-29028d7a-8c64-47b5-b83d-77635a248919 button.colab-df-convert');\n",
              "      buttonEl.style.display =\n",
              "        google.colab.kernel.accessAllowed ? 'block' : 'none';\n",
              "\n",
              "      async function convertToInteractive(key) {\n",
              "        const element = document.querySelector('#df-29028d7a-8c64-47b5-b83d-77635a248919');\n",
              "        const dataTable =\n",
              "          await google.colab.kernel.invokeFunction('convertToInteractive',\n",
              "                                                    [key], {});\n",
              "        if (!dataTable) return;\n",
              "\n",
              "        const docLinkHtml = 'Like what you see? Visit the ' +\n",
              "          '<a target=\"_blank\" href=https://colab.research.google.com/notebooks/data_table.ipynb>data table notebook</a>'\n",
              "          + ' to learn more about interactive tables.';\n",
              "        element.innerHTML = '';\n",
              "        dataTable['output_type'] = 'display_data';\n",
              "        await google.colab.output.renderOutput(dataTable, element);\n",
              "        const docLink = document.createElement('div');\n",
              "        docLink.innerHTML = docLinkHtml;\n",
              "        element.appendChild(docLink);\n",
              "      }\n",
              "    </script>\n",
              "  </div>\n",
              "\n",
              "\n",
              "<div id=\"df-db3e8bfc-7ca4-452a-95d2-cc75e2079a1d\">\n",
              "  <button class=\"colab-df-quickchart\" onclick=\"quickchart('df-db3e8bfc-7ca4-452a-95d2-cc75e2079a1d')\"\n",
              "            title=\"Suggest charts\"\n",
              "            style=\"display:none;\">\n",
              "\n",
              "<svg xmlns=\"http://www.w3.org/2000/svg\" height=\"24px\"viewBox=\"0 0 24 24\"\n",
              "     width=\"24px\">\n",
              "    <g>\n",
              "        <path d=\"M19 3H5c-1.1 0-2 .9-2 2v14c0 1.1.9 2 2 2h14c1.1 0 2-.9 2-2V5c0-1.1-.9-2-2-2zM9 17H7v-7h2v7zm4 0h-2V7h2v10zm4 0h-2v-4h2v4z\"/>\n",
              "    </g>\n",
              "</svg>\n",
              "  </button>\n",
              "\n",
              "<style>\n",
              "  .colab-df-quickchart {\n",
              "      --bg-color: #E8F0FE;\n",
              "      --fill-color: #1967D2;\n",
              "      --hover-bg-color: #E2EBFA;\n",
              "      --hover-fill-color: #174EA6;\n",
              "      --disabled-fill-color: #AAA;\n",
              "      --disabled-bg-color: #DDD;\n",
              "  }\n",
              "\n",
              "  [theme=dark] .colab-df-quickchart {\n",
              "      --bg-color: #3B4455;\n",
              "      --fill-color: #D2E3FC;\n",
              "      --hover-bg-color: #434B5C;\n",
              "      --hover-fill-color: #FFFFFF;\n",
              "      --disabled-bg-color: #3B4455;\n",
              "      --disabled-fill-color: #666;\n",
              "  }\n",
              "\n",
              "  .colab-df-quickchart {\n",
              "    background-color: var(--bg-color);\n",
              "    border: none;\n",
              "    border-radius: 50%;\n",
              "    cursor: pointer;\n",
              "    display: none;\n",
              "    fill: var(--fill-color);\n",
              "    height: 32px;\n",
              "    padding: 0;\n",
              "    width: 32px;\n",
              "  }\n",
              "\n",
              "  .colab-df-quickchart:hover {\n",
              "    background-color: var(--hover-bg-color);\n",
              "    box-shadow: 0 1px 2px rgba(60, 64, 67, 0.3), 0 1px 3px 1px rgba(60, 64, 67, 0.15);\n",
              "    fill: var(--button-hover-fill-color);\n",
              "  }\n",
              "\n",
              "  .colab-df-quickchart-complete:disabled,\n",
              "  .colab-df-quickchart-complete:disabled:hover {\n",
              "    background-color: var(--disabled-bg-color);\n",
              "    fill: var(--disabled-fill-color);\n",
              "    box-shadow: none;\n",
              "  }\n",
              "\n",
              "  .colab-df-spinner {\n",
              "    border: 2px solid var(--fill-color);\n",
              "    border-color: transparent;\n",
              "    border-bottom-color: var(--fill-color);\n",
              "    animation:\n",
              "      spin 1s steps(1) infinite;\n",
              "  }\n",
              "\n",
              "  @keyframes spin {\n",
              "    0% {\n",
              "      border-color: transparent;\n",
              "      border-bottom-color: var(--fill-color);\n",
              "      border-left-color: var(--fill-color);\n",
              "    }\n",
              "    20% {\n",
              "      border-color: transparent;\n",
              "      border-left-color: var(--fill-color);\n",
              "      border-top-color: var(--fill-color);\n",
              "    }\n",
              "    30% {\n",
              "      border-color: transparent;\n",
              "      border-left-color: var(--fill-color);\n",
              "      border-top-color: var(--fill-color);\n",
              "      border-right-color: var(--fill-color);\n",
              "    }\n",
              "    40% {\n",
              "      border-color: transparent;\n",
              "      border-right-color: var(--fill-color);\n",
              "      border-top-color: var(--fill-color);\n",
              "    }\n",
              "    60% {\n",
              "      border-color: transparent;\n",
              "      border-right-color: var(--fill-color);\n",
              "    }\n",
              "    80% {\n",
              "      border-color: transparent;\n",
              "      border-right-color: var(--fill-color);\n",
              "      border-bottom-color: var(--fill-color);\n",
              "    }\n",
              "    90% {\n",
              "      border-color: transparent;\n",
              "      border-bottom-color: var(--fill-color);\n",
              "    }\n",
              "  }\n",
              "</style>\n",
              "\n",
              "  <script>\n",
              "    async function quickchart(key) {\n",
              "      const quickchartButtonEl =\n",
              "        document.querySelector('#' + key + ' button');\n",
              "      quickchartButtonEl.disabled = true;  // To prevent multiple clicks.\n",
              "      quickchartButtonEl.classList.add('colab-df-spinner');\n",
              "      try {\n",
              "        const charts = await google.colab.kernel.invokeFunction(\n",
              "            'suggestCharts', [key], {});\n",
              "      } catch (error) {\n",
              "        console.error('Error during call to suggestCharts:', error);\n",
              "      }\n",
              "      quickchartButtonEl.classList.remove('colab-df-spinner');\n",
              "      quickchartButtonEl.classList.add('colab-df-quickchart-complete');\n",
              "    }\n",
              "    (() => {\n",
              "      let quickchartButtonEl =\n",
              "        document.querySelector('#df-db3e8bfc-7ca4-452a-95d2-cc75e2079a1d button');\n",
              "      quickchartButtonEl.style.display =\n",
              "        google.colab.kernel.accessAllowed ? 'block' : 'none';\n",
              "    })();\n",
              "  </script>\n",
              "</div>\n",
              "\n",
              "  <div id=\"id_7cc58cc6-2d5e-43dc-a0af-6eb795a8e7ac\">\n",
              "    <style>\n",
              "      .colab-df-generate {\n",
              "        background-color: #E8F0FE;\n",
              "        border: none;\n",
              "        border-radius: 50%;\n",
              "        cursor: pointer;\n",
              "        display: none;\n",
              "        fill: #1967D2;\n",
              "        height: 32px;\n",
              "        padding: 0 0 0 0;\n",
              "        width: 32px;\n",
              "      }\n",
              "\n",
              "      .colab-df-generate:hover {\n",
              "        background-color: #E2EBFA;\n",
              "        box-shadow: 0px 1px 2px rgba(60, 64, 67, 0.3), 0px 1px 3px 1px rgba(60, 64, 67, 0.15);\n",
              "        fill: #174EA6;\n",
              "      }\n",
              "\n",
              "      [theme=dark] .colab-df-generate {\n",
              "        background-color: #3B4455;\n",
              "        fill: #D2E3FC;\n",
              "      }\n",
              "\n",
              "      [theme=dark] .colab-df-generate:hover {\n",
              "        background-color: #434B5C;\n",
              "        box-shadow: 0px 1px 3px 1px rgba(0, 0, 0, 0.15);\n",
              "        filter: drop-shadow(0px 1px 2px rgba(0, 0, 0, 0.3));\n",
              "        fill: #FFFFFF;\n",
              "      }\n",
              "    </style>\n",
              "    <button class=\"colab-df-generate\" onclick=\"generateWithVariable('df_predict_test')\"\n",
              "            title=\"Generate code using this dataframe.\"\n",
              "            style=\"display:none;\">\n",
              "\n",
              "  <svg xmlns=\"http://www.w3.org/2000/svg\" height=\"24px\"viewBox=\"0 0 24 24\"\n",
              "       width=\"24px\">\n",
              "    <path d=\"M7,19H8.4L18.45,9,17,7.55,7,17.6ZM5,21V16.75L18.45,3.32a2,2,0,0,1,2.83,0l1.4,1.43a1.91,1.91,0,0,1,.58,1.4,1.91,1.91,0,0,1-.58,1.4L9.25,21ZM18.45,9,17,7.55Zm-12,3A5.31,5.31,0,0,0,4.9,8.1,5.31,5.31,0,0,0,1,6.5,5.31,5.31,0,0,0,4.9,4.9,5.31,5.31,0,0,0,6.5,1,5.31,5.31,0,0,0,8.1,4.9,5.31,5.31,0,0,0,12,6.5,5.46,5.46,0,0,0,6.5,12Z\"/>\n",
              "  </svg>\n",
              "    </button>\n",
              "    <script>\n",
              "      (() => {\n",
              "      const buttonEl =\n",
              "        document.querySelector('#id_7cc58cc6-2d5e-43dc-a0af-6eb795a8e7ac button.colab-df-generate');\n",
              "      buttonEl.style.display =\n",
              "        google.colab.kernel.accessAllowed ? 'block' : 'none';\n",
              "\n",
              "      buttonEl.onclick = () => {\n",
              "        google.colab.notebook.generateWithVariable('df_predict_test');\n",
              "      }\n",
              "      })();\n",
              "    </script>\n",
              "  </div>\n",
              "\n",
              "    </div>\n",
              "  </div>\n"
            ]
          },
          "metadata": {},
          "execution_count": 61
        }
      ]
    },
    {
      "cell_type": "code",
      "source": [
        "random_df = df_predict_test.sample(n=25)\n",
        "plt.stem(random_df['actual price'], label='actual price', markerfmt='ro')\n",
        "plt.stem(random_df['pred_test'], label='pred_test', markerfmt='go')\n",
        "\n",
        "plt.xlabel('X-axis')\n",
        "plt.ylabel(' price')\n",
        "plt.title('Graph of actual price and pred_test')\n",
        "\n",
        "plt.legend()\n",
        "plt.show()\n",
        "# stem"
      ],
      "metadata": {
        "colab": {
          "base_uri": "https://localhost:8080/",
          "height": 472
        },
        "id": "jjneuL2LEhEH",
        "outputId": "a06dd9da-56cf-4163-a342-e1c5963f8e1f"
      },
      "execution_count": null,
      "outputs": [
        {
          "output_type": "display_data",
          "data": {
            "text/plain": [
              "<Figure size 640x480 with 1 Axes>"
            ],
            "image/png": "[encoded data removed]"
          },
          "metadata": {}
        }
      ]
    },
    {
      "cell_type": "code",
      "source": [
        "\n"
      ],
      "metadata": {
        "id": "Fxkw9iJmrfSX"
      },
      "execution_count": null,
      "outputs": []
    },
    {
      "cell_type": "markdown",
      "source": [
        "# Save"
      ],
      "metadata": {
        "id": "YupuL_4HKx7K"
      }
    },
    {
      "cell_type": "code",
      "source": [
        "tf.saved_model.save(model, 'mlpkl')  #to save the tensorflow model"
      ],
      "metadata": {
        "id": "vlCfnDyK8nfZ"
      },
      "execution_count": null,
      "outputs": []
    },
    {
      "cell_type": "code",
      "source": [
        "!pwd\n"
      ],
      "metadata": {
        "colab": {
          "base_uri": "https://localhost:8080/"
        },
        "id": "-z-xnMgRwxRi",
        "outputId": "ab1854e3-f362-4aa1-96c0-904505f22400"
      },
      "execution_count": null,
      "outputs": [
        {
          "output_type": "stream",
          "name": "stdout",
          "text": [
            "/content\n"
          ]
        }
      ]
    },
    {
      "cell_type": "code",
      "source": [
        "# Get the column names from the column transformer\n",
        "encoder_columns = preprocessor.named_transformers_['encoder'].get_feature_names_out(cat_features)\n",
        "encoder_columns = list(encoder_columns)\n",
        "\n",
        "# Add the remaining columns to the encoder columns (if any)\n",
        "if len(preprocessor.transformers_) > 1:\n",
        "    remainder_columns = list(preprocessor.transformers_[1][2])\n",
        "    encoder_columns.extend(remainder_columns)\n"
      ],
      "metadata": {
        "id": "929ZIH1EQjoN"
      },
      "execution_count": null,
      "outputs": []
    },
    {
      "cell_type": "code",
      "source": [
        "import pickle"
      ],
      "metadata": {
        "id": "tikisFR_Kk58"
      },
      "execution_count": null,
      "outputs": []
    },
    {
      "cell_type": "code",
      "source": [
        "# Save the encoder_columns as a pickle file\n",
        "with open('encoder_columns.pickle', 'wb') as f:\n",
        "    pickle.dump(encoder_columns, f)"
      ],
      "metadata": {
        "id": "DsoeImnYKfkW"
      },
      "execution_count": null,
      "outputs": []
    },
    {
      "cell_type": "code",
      "source": [
        "import json"
      ],
      "metadata": {
        "id": "S3e0ZEgRYWtW"
      },
      "execution_count": null,
      "outputs": []
    },
    {
      "cell_type": "code",
      "source": [
        "with open('new_preprocessor.json', 'w') as f:  #new_preprocessor save as json\n",
        "    json.dump(encoder_columns, f)"
      ],
      "metadata": {
        "id": "Lb5DFEl4Q8PN"
      },
      "execution_count": null,
      "outputs": []
    },
    {
      "cell_type": "code",
      "source": [
        "imported = tf. saved_model. load('mlpkl')  # to load the model"
      ],
      "metadata": {
        "id": "X7JLY0wxw6KA"
      },
      "execution_count": null,
      "outputs": []
    },
    {
      "cell_type": "code",
      "source": [
        "import joblib"
      ],
      "metadata": {
        "id": "eDYzyt2IUH8w"
      },
      "execution_count": null,
      "outputs": []
    },
    {
      "cell_type": "code",
      "source": [
        "# Create a custom encoder function to handle the OneHotEncoder object\n",
        "def custom_encoder(obj):\n",
        "    if isinstance(obj, ColumnTransformer):                              #preprocessor saved as json\n",
        "        transformers = []\n",
        "        for transformer in obj.transformers_:\n",
        "            if isinstance(transformer[1], OneHotEncoder):\n",
        "                categories = transformer[1].categories_\n",
        "                categories_list = [list(cat) for cat in categories]\n",
        "                transformers.append((transformer[0], categories_list, transformer[1]))\n",
        "        return {\n",
        "            \"_sklearn_object_type\": \"ColumnTransformer\",\n",
        "            \"transformers\": transformers,\n",
        "        }\n",
        "    return None\n",
        "\n",
        "preprocessor_dict = preprocessor.__dict__\n",
        "\n",
        "preprocessor_json = json.dumps(preprocessor_dict, default=custom_encoder)\n",
        "\n",
        "with open('preprocessor.json', 'w') as json_file:\n",
        "    json_file.write(preprocessor_json)"
      ],
      "metadata": {
        "id": "RVbThOmEC6X9"
      },
      "execution_count": null,
      "outputs": []
    },
    {
      "cell_type": "code",
      "source": [
        "# !pip install tensorflowjs\n"
      ],
      "metadata": {
        "id": "qtNcLtLNxlA9"
      },
      "execution_count": null,
      "outputs": []
    },
    {
      "cell_type": "code",
      "source": [
        "# import tensorflowjs as tfjs"
      ],
      "metadata": {
        "id": "hj842114xsBY"
      },
      "execution_count": null,
      "outputs": []
    },
    {
      "cell_type": "code",
      "source": [
        "# tfjs.converters.save_keras_model(model,'models')  # model converts tensorflow to json"
      ],
      "metadata": {
        "id": "JfpAiGxY18XF"
      },
      "execution_count": null,
      "outputs": []
    }
  ]
}